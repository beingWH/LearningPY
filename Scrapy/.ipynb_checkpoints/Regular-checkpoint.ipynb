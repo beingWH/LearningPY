{
 "cells": [
  {
   "cell_type": "markdown",
   "metadata": {},
   "source": [
    "## 正则表达式"
   ]
  },
  {
   "cell_type": "markdown",
   "metadata": {},
   "source": [
    "### re模块"
   ]
  },
  {
   "cell_type": "code",
   "execution_count": 69,
   "metadata": {},
   "outputs": [],
   "source": [
    "import re\n",
    "reg=re.match(r'^\\d{3}\\-\\d{3,8}$', '010-12345') # 加r前缀不用考虑转义字符"
   ]
  },
  {
   "cell_type": "code",
   "execution_count": 10,
   "metadata": {},
   "outputs": [
    {
     "data": {
      "text/plain": [
       "_sre.SRE_Match"
      ]
     },
     "execution_count": 10,
     "metadata": {},
     "output_type": "execute_result"
    }
   ],
   "source": [
    "type(reg)"
   ]
  },
  {
   "cell_type": "code",
   "execution_count": 12,
   "metadata": {},
   "outputs": [],
   "source": [
    "def MatchJudge(reg):\n",
    "    if reg:\n",
    "        print('match success')\n",
    "    else:\n",
    "        print('match fail')"
   ]
  },
  {
   "cell_type": "code",
   "execution_count": 13,
   "metadata": {},
   "outputs": [
    {
     "name": "stdout",
     "output_type": "stream",
     "text": [
      "match success\n"
     ]
    }
   ],
   "source": [
    "MatchJudge(reg)"
   ]
  },
  {
   "cell_type": "code",
   "execution_count": 14,
   "metadata": {},
   "outputs": [],
   "source": [
    "reg=re.match(r'^\\d{3}\\-\\d{3,8}$', '0100-12345')"
   ]
  },
  {
   "cell_type": "code",
   "execution_count": 15,
   "metadata": {},
   "outputs": [
    {
     "data": {
      "text/plain": [
       "NoneType"
      ]
     },
     "execution_count": 15,
     "metadata": {},
     "output_type": "execute_result"
    }
   ],
   "source": [
    "type(reg)"
   ]
  },
  {
   "cell_type": "code",
   "execution_count": 16,
   "metadata": {},
   "outputs": [
    {
     "name": "stdout",
     "output_type": "stream",
     "text": [
      "match fail\n"
     ]
    }
   ],
   "source": [
    "MatchJudge(reg)"
   ]
  },
  {
   "cell_type": "markdown",
   "metadata": {},
   "source": [
    "## 切分字符串"
   ]
  },
  {
   "cell_type": "code",
   "execution_count": 17,
   "metadata": {},
   "outputs": [
    {
     "data": {
      "text/plain": [
       "['a', 'b', 'c']"
      ]
     },
     "execution_count": 17,
     "metadata": {},
     "output_type": "execute_result"
    }
   ],
   "source": [
    "re.split(r'\\s+', 'a b   c') #使用正则表达式切分字符串"
   ]
  },
  {
   "cell_type": "code",
   "execution_count": 18,
   "metadata": {},
   "outputs": [
    {
     "data": {
      "text/plain": [
       "['a', 'b', 'c', 'd']"
      ]
     },
     "execution_count": 18,
     "metadata": {},
     "output_type": "execute_result"
    }
   ],
   "source": [
    "re.split(r'[\\s\\,]+', 'a,b, c  d')"
   ]
  },
  {
   "cell_type": "code",
   "execution_count": 19,
   "metadata": {},
   "outputs": [
    {
     "data": {
      "text/plain": [
       "['a', 'b', 'c', 'd']"
      ]
     },
     "execution_count": 19,
     "metadata": {},
     "output_type": "execute_result"
    }
   ],
   "source": [
    "re.split(r'[\\s\\,\\;]+', 'a,b;; c  d')"
   ]
  },
  {
   "cell_type": "markdown",
   "metadata": {},
   "source": [
    "## 分组(捕获分组)"
   ]
  },
  {
   "cell_type": "code",
   "execution_count": 20,
   "metadata": {},
   "outputs": [],
   "source": [
    " m = re.match(r'^(\\d{3})-(\\d{3,8})$', '010-12345')"
   ]
  },
  {
   "cell_type": "code",
   "execution_count": 21,
   "metadata": {},
   "outputs": [
    {
     "data": {
      "text/plain": [
       "('010', '12345')"
      ]
     },
     "execution_count": 21,
     "metadata": {},
     "output_type": "execute_result"
    }
   ],
   "source": [
    "m.groups() #匹配的子串"
   ]
  },
  {
   "cell_type": "code",
   "execution_count": 22,
   "metadata": {},
   "outputs": [
    {
     "data": {
      "text/plain": [
       "'010-12345'"
      ]
     },
     "execution_count": 22,
     "metadata": {},
     "output_type": "execute_result"
    }
   ],
   "source": [
    "m.group(0) # 原始字符串"
   ]
  },
  {
   "cell_type": "code",
   "execution_count": 23,
   "metadata": {},
   "outputs": [
    {
     "data": {
      "text/plain": [
       "'010'"
      ]
     },
     "execution_count": 23,
     "metadata": {},
     "output_type": "execute_result"
    }
   ],
   "source": [
    "m.group(1)"
   ]
  },
  {
   "cell_type": "code",
   "execution_count": 24,
   "metadata": {},
   "outputs": [
    {
     "data": {
      "text/plain": [
       "'12345'"
      ]
     },
     "execution_count": 24,
     "metadata": {},
     "output_type": "execute_result"
    }
   ],
   "source": [
    "m.group(2)"
   ]
  },
  {
   "cell_type": "markdown",
   "metadata": {},
   "source": [
    "### 关于正则表达式"
   ]
  },
  {
   "cell_type": "markdown",
   "metadata": {},
   "source": [
    "#### 元字符\n"
   ]
  },
  {
   "cell_type": "markdown",
   "metadata": {},
   "source": [
    "- ```\"^\"```:^会匹配行或者字符串的起始位置，有时还会匹配整个文档的起始位置\n",
    "- ```\"$\"```:$会匹配行或字符串的结尾\n",
    "- ```\"\\b\"```:匹配位置<br>\n",
    "不会消耗任何字符只匹配一个位置，常用于匹配单词边界 如 我想从字符串中\"This is Regex\"匹配单独的单词 \"is\" 正则就要写成 \"\\bis\\b\"<br>\n",
    "\\b 不会匹配is 两边的字符，但它会识别is 两边是否为单词的边界\n",
    "\n",
    "- ```\"\\d\"```:匹配数字<br>\n",
    "例如要匹配一个固定格式的电话号码以0开头前4位后7位，如0737-5686123  正则:^0\\d\\d\\d-\\d\\d\\d\\d\\d\\d\\d$\n",
    "\n",
    "- ```\"\\w\"```:匹配字母，数字，下划线<br>\n",
    "例如我要匹配\"a2345BCD__TTz\" 正则：\"\\w+\"  这里的\"+\"字符为一个量词指重复的次数。\n",
    "\n",
    "- ```\"\\s\"```:匹配空格 <br>\n",
    "例如字符 \"a b c\" 正则：\"\\w\\s\\w\\s\\w\"  一个字符后跟一个空格，如有字符间有多个空格直接把\"\\s\" 写成 \"\\s+\" 让空格重复\n",
    "\n",
    "- ```\".\"```匹配除了换行符以外的任何字符 <br>\n",
    "这个算是\"\\w\"的加强版了\"\\w\"不能匹配 空格 如果把字符串加上空格用\"\\w\"就受限了，看下用 \".\"是如何匹配字符\"a23 4 5 B C D__TTz\"  正则：\".+\"\n",
    "\n",
    "- ```\"[abc]\"```:字符组,匹配包含括号内元素的字符  <br>\n",
    "这个比较简单了只匹配括号内存在的字符，还可以写成[a-z]匹配a至z的所以字母就等于可以用来控制只能输入英文了"
   ]
  },
  {
   "cell_type": "markdown",
   "metadata": {},
   "source": [
    "#### 反义"
   ]
  },
  {
   "cell_type": "markdown",
   "metadata": {},
   "source": [
    "写法很简单改成大写就行了，意思与原来的相反"
   ]
  },
  {
   "cell_type": "markdown",
   "metadata": {},
   "source": [
    "- ```\"\\W\"```:匹配任意不是字母，数字，下划线 的字符\n",
    "- ```\"\\S\"```:匹配任意不是空白符的字符\n",
    "- ```\"\\D\"```:匹配任意非数字的字符\n",
    "- ```\"\\B\"```:匹配不是单词开头或结束的位置\n",
    "- ```\"[^abc]\"```:匹配除了abc以外的任意字符"
   ]
  },
  {
   "cell_type": "markdown",
   "metadata": {},
   "source": [
    "#### 量词"
   ]
  },
  {
   "cell_type": "markdown",
   "metadata": {},
   "source": [
    "先解释关于量词所涉及到的重要的三个概念\n",
    "- 贪婪(贪心) \n",
    "\n",
    "如\"*\"字符 贪婪量词会首先匹配整个字符串，尝试匹配时，它会选定尽可能多的内容，如果 失败则回退一个字符，然后再次尝试回退的过程就叫做回溯，它会每次回退一个字符，直到找到匹配的内容或者没有字符可以回退。相比下面两种贪婪量词对资源的消耗是最大的。<br>\n",
    "- 懒惰(勉强) \n",
    "\n",
    "如 \"?\"  懒惰量词使用另一种方式匹配，它从目标的起始位置开始尝试匹配，每次检查一个字符，并寻找它要匹配的内容，如此循环直到字符结尾处。<br>\n",
    "- 占有  \n",
    "\n",
    "如\"+\" 占有量词会覆盖事个目标字符串，然后尝试寻找匹配内容 ，但它只尝试一次，不会回溯，就好比先抓一把石头，然后从石头中挑出黄金。<br>"
   ]
  },
  {
   "cell_type": "markdown",
   "metadata": {},
   "source": [
    "1. ```\"*\"贪婪```:重复零次或更多<br>\n",
    "    例如\"aaaaaaaa\" 匹配字符串中所有的a  正则： \"a*\"   会出到所有的字符\"a\"\n",
    "2. ```\"+\"懒惰```:重复一次或更多次<br>\n",
    "    例如\"aaaaaaaa\" 匹配字符串中所有的a  正则： \"a+\"  会取到字符中所有的a字符，  \"a+\"与\"a*\"不同在于\"+\"至少是一次而\"*\" 可以是0次，稍后会与\"?\"字符结合来体现这种区别\n",
    "3. ```\"？\"占有```:重复零次或一次<br>\n",
    "    例如\"aaaaaaaa\" 匹配字符串中的a 正则 ： \"a?\" 只会匹配一次，也就是结果只是单个字符a。\n",
    "4. ```\"{n}\"```:重复n次<br>\n",
    "   例如从\"aaaaaaaa\" 匹配字符串的a 并重复3次 正则：  \"a{3}\"  结果就是取到3个a字符  \"aaa\"。\n",
    "5. ```\"{n,m}\"```:重复n到m次<br>\n",
    "   例如正则 \"a{3,4}\" 将a重复匹配3次或者4次 所以供匹配的字符可以是三个\"aaa\"也可以是四个\"aaaa\" 正则都可以匹配到。\n",
    "6. ```\"{n,}\"```:重复n次或更多次<br>\n",
    "   与{n,m}不同之处就在于匹配的次数将没有上限，但至少要重复n次 如 正则\"a{3,}\" a至少要重复3次把量词了解了之后之前匹配电话号码的正则现在就可以改得简单点了^0\\d\\d\\d-\\d\\d\\d\\d\\d\\d\\d$ 可以改为\"^0\\d+-\\d{7}$\"。这样写还不够完美如果因为前面的区号没有做限定，以至于可以输入很多们，而通常只能是3位或者4位，现在再改一下 \"^0\\d{2,3}-\\d{7}\"如此一来区号部分就可以匹配3位或者4位的了\n",
    "   "
   ]
  },
  {
   "cell_type": "markdown",
   "metadata": {},
   "source": [
    "#### 懒惰限定符\n"
   ]
  },
  {
   "cell_type": "markdown",
   "metadata": {},
   "source": [
    "1. ```\"*?\"```:重复任意次，但尽可能少重复<br>\n",
    "    如 \"acbacb\"  正则  \"a.*?b\" 只会取到第一个\"acb\" 原本可以全部取到但加了限定符后，只会匹配尽可能少的字符 ，而\"acbacb\"最少字符的结果就是\"acb\".\n",
    "2. ```\"+?\"```:重复1次或更多次，但尽可能少重复<br>\n",
    "    与上面一样，只是至少要重复1次\n",
    "3. ```\"??\"```:重复0次或1次，但尽可能少重复<br>\n",
    "    如 \"aaacb\" 正则 \"a.??b\" 只会取到最后的三个字符\"acb\"\n",
    "4. ```\"{n,m}?\"```:重复n到m次，但尽可能少重复<br>\n",
    "    如 \"aaaaaaaa\"  正则 \"a{0,m}?\" 因为最少是0次所以取到结果为空\n",
    "5. ```\"{n,}?\"```:重复n次以上，但尽可能少重复<br>\n",
    "     如 \"aaaaaaa\"  正则 \"a{1,}?\" 最少是1次所以取到结果为 \"a\""
   ]
  },
  {
   "cell_type": "markdown",
   "metadata": {},
   "source": [
    "#### 捕获分组"
   ]
  },
  {
   "cell_type": "markdown",
   "metadata": {},
   "source": [
    "先了解在正则中捕获分组的概念，其实就是一个括号内的内容 如 \"(\\d)\\d\" 而\"(\\d)\" 这就是一个捕获分组，可以对捕获分组进行 后向引用 (如果后而有相同的内容则可以直接引用前面定义的捕获组，以简化表达式) 如(\\d)\\d\\1 这里的\"\\1\"就是对\"(\\d)\"的后向引用\n",
    "\n",
    "那捕获分组有什么用呢看个例子就知道了\n",
    "\n",
    "如  \"zery zery\" 正则 \\b(\\w+)\\b\\s\\1\\b 所以这里的\"\\1\"所捕获到的字符也是 与(\\w+)一样的\"zery\"，为了让组名更有意义，组名是可以自定义名字的\n",
    "\n",
    "\"\\b(?<name>\\w+)\\b\\s\\k<name>\\b\" 用\"?<name>\"就可以自定义组名了而要后向引用组时要记得写成 \"\\k<name>\";自定义组名后,捕获组中匹配到的值就会保存在定义的组名里\n",
    "    \n",
    "下面列出捕获分组常有的用法"
   ]
  },
  {
   "cell_type": "markdown",
   "metadata": {},
   "source": [
    "- \"(exp)\"    匹配exp,并捕获文本到自动命名的组里<br>\n",
    "\n",
    "- \"(?<name>exp)\"   匹配exp,并捕获文本到名称为name的组里<br>\n",
    "    \n",
    "- \"(?:exp)\"  匹配exp,不捕获匹配的文本，也不给此分组分配组号<br>\n",
    "\n",
    "以下为零宽断言\n",
    "\n",
    "- \"(?=exp)\"  匹配exp前面的位置\n",
    "\n",
    "　　如 \"How are you doing\" 正则\"(?<txt>.+(?=ing))\" 这里取ing前所有的字符，并定义了一个捕获分组名字为 \"txt\" 而\"txt\"这个组里的值为\"How are you do\";\n",
    "    \n",
    "- \"(?<=exp)\"  匹配exp后面的位置\n",
    "\n",
    "　　如 \"How are you doing\" 正则\"(?<txt>(?<=How).+)\" 这里取\"How\"之后所有的字符，并定义了一个捕获分组名字为 \"txt\" 而\"txt\"这个组里的值为\" are you doing\";\n",
    "    \n",
    "- \"(?!exp)\"  匹配后面跟的不是exp的位置\n",
    "\n",
    "　　如 \"123abc\" 正则 \"\\d{3}(?!\\d)\"匹配3位数字后非数字的结果\n",
    "  \n",
    "- \"(?<!exp)\"  匹配前面不是exp的位置\n",
    "\n",
    "　　如 \"abc123 \" 正则 \"(?<![0-9])123\" 匹配\"123\"前面是非数字的结果也可写成\"(?!<\\d)123\""
   ]
  },
  {
   "cell_type": "markdown",
   "metadata": {},
   "source": [
    "## 实践"
   ]
  },
  {
   "cell_type": "code",
   "execution_count": 81,
   "metadata": {},
   "outputs": [
    {
     "data": {
      "text/plain": [
       "_sre.SRE_Match"
      ]
     },
     "execution_count": 81,
     "metadata": {},
     "output_type": "execute_result"
    }
   ],
   "source": [
    "url=\"www.liaoxuefeng.com/wiki/0014316089557264a6b348958f449949df42a6d3a2e542c000/00143193331387014ccd1040c814dee8b2164bb4f064cff0005\"\n",
    "m=re.match(r'^\\w{3}\\.\\w+\\.com\\/wiki',url)\n",
    "type(m)"
   ]
  },
  {
   "cell_type": "code",
   "execution_count": null,
   "metadata": {},
   "outputs": [],
   "source": []
  }
 ],
 "metadata": {
  "kernelspec": {
   "display_name": "Python 3",
   "language": "python",
   "name": "python3"
  },
  "language_info": {
   "codemirror_mode": {
    "name": "ipython",
    "version": 3
   },
   "file_extension": ".py",
   "mimetype": "text/x-python",
   "name": "python",
   "nbconvert_exporter": "python",
   "pygments_lexer": "ipython3",
   "version": "3.6.0"
  }
 },
 "nbformat": 4,
 "nbformat_minor": 2
}
