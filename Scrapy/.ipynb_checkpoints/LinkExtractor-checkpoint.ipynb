{
 "cells": [
  {
   "cell_type": "markdown",
   "metadata": {},
   "source": [
    "## 使用LinkExtractor提取链接"
   ]
  },
  {
   "cell_type": "code",
   "execution_count": 3,
   "metadata": {},
   "outputs": [],
   "source": [
    "# 构造函数\n",
    "def __init__(self, allow=(), deny=(), allow_domains=(), deny_domains=(), restrict_xpaths=(),\n",
    "             tags=('a', 'area'), attrs=('href',), canonicalize=False,\n",
    "             unique=True, process_value=None, deny_extensions=None, restrict_css=(),\n",
    "             strip=True):\n",
    "    pass"
   ]
  },
  {
   "cell_type": "markdown",
   "metadata": {},
   "source": [
    "- allow 接收一个正则表达式或一个正则表达式列表，提取url与正则表达式匹配的链接。\n",
    "- deny 接收一个正则表达式或一个正则表达式列表，排除url与正则表达式匹配的链接。\n",
    "- allow_domains 接收一个域名或一个域名列表，提取到指定域的链接。\n",
    "- deny_domains 接收一个域名或一个域名列表，排除指定域的链接。\n",
    "- restrict_xpaths 接收一个xpath表达式，提取xpath表达式选中区域下的链接。\n",
    "- restrict_css 接收一个css表达式，提取css表达式选中区域下的链接。\n",
    "- tags 接收一个标签或一个标签列表，提取指定标签内的链接。\n",
    "- attrs 接收一个属性或一个属性列表，提取指定属性内的链接。\n",
    "- process_value 接收一个形如func(value)的回调函数。如果传递了该参数，LinkExtrator将调用该回调函数对提取的每一个链接进行处理，回调函数正常情况下应返回一个字符串，想要抛弃所处理的链接时，返回None。"
   ]
  },
  {
   "cell_type": "code",
   "execution_count": 4,
   "metadata": {},
   "outputs": [],
   "source": [
    "# 方法extract_links\n",
    "def extract_links(self, response):\n",
    "    base_url = get_base_url(response)\n",
    "    if self.restrict_xpaths:\n",
    "        docs = [subdoc\n",
    "                for x in self.restrict_xpaths\n",
    "                for subdoc in response.xpath(x)]\n",
    "    else:\n",
    "        docs = [response.selector]\n",
    "    all_links = []\n",
    "    for doc in docs:\n",
    "        links = self._extract_links(doc, response.url, response.encoding, base_url)\n",
    "        all_links.extend(self._process_links(links))\n",
    "    return unique_list(all_links)"
   ]
  },
  {
   "cell_type": "markdown",
   "metadata": {},
   "source": [
    "传入response对象后，自动生成绝对url的list。"
   ]
  },
  {
   "cell_type": "code",
   "execution_count": 15,
   "metadata": {},
   "outputs": [
    {
     "data": {
      "text/plain": [
       "'\\n<!--example1.html-->\\n<html>\\n    <body>\\n        <div id=\"top\">\\n            <p>下面是一些站内链接</p>\\n            <a class=\"internal\" href=\"/intro/install.html\">Installation guide</a>\\n            <a class=\"internal\" href=\"/intro/tutorial.html\">Tutorial</a>\\n            <a class=\"internal\" href=\"../examples.html\">Examples</a>            \\n        </div>\\n        <div id=\"bottom\">\\n            <p>下面是一些站外链接</p>\\n            <a href=\"http://stackoverflow.com/tags/scrapy/info\">StackOverflow</a>\\n            <a href=\"https://github.com/scrapy/scrapy\">Fork on Github</a>         \\n        </div>\\n    </body>\\n</html>\\n<!--example2.html-->\\n<html>\\n    <head>\\n        <script type=\\'text/javascript\\' src=\\'/js/app1.js\\'/>\\n        <script type=\\'text/javascript\\' src=\\'/js/app2.js\\'/>\\n    </head>\\n    <body>\\n        <div>\\n            <a href=\"/home.html\">主页</a>\\n            <a href=\"javascript:goToPage(\\'/doc.html\\');return false\">文档</a>\\n            <a href=\"javascript:goToPage(\\'/example.html\\');return false\">案例</a>\\n            </div>\\n    </body>\\n</html>\\n'"
      ]
     },
     "execution_count": 15,
     "metadata": {},
     "output_type": "execute_result"
    }
   ],
   "source": [
    "'''\n",
    "<!--example1.html-->\n",
    "<html>\n",
    "    <body>\n",
    "        <div id=\"top\">\n",
    "            <p>下面是一些站内链接</p>\n",
    "            <a class=\"internal\" href=\"/intro/install.html\">Installation guide</a>\n",
    "            <a class=\"internal\" href=\"/intro/tutorial.html\">Tutorial</a>\n",
    "            <a class=\"internal\" href=\"../examples.html\">Examples</a>            \n",
    "        </div>\n",
    "        <div id=\"bottom\">\n",
    "            <p>下面是一些站外链接</p>\n",
    "            <a href=\"http://stackoverflow.com/tags/scrapy/info\">StackOverflow</a>\n",
    "            <a href=\"https://github.com/scrapy/scrapy\">Fork on Github</a>         \n",
    "        </div>\n",
    "    </body>\n",
    "</html>\n",
    "<!--example2.html-->\n",
    "<html>\n",
    "    <head>\n",
    "        <script type='text/javascript' src='/js/app1.js'/>\n",
    "        <script type='text/javascript' src='/js/app2.js'/>\n",
    "    </head>\n",
    "    <body>\n",
    "        <div>\n",
    "            <a href=\"/home.html\">主页</a>\n",
    "            <a href=\"javascript:goToPage('/doc.html');return false\">文档</a>\n",
    "            <a href=\"javascript:goToPage('/example.html');return false\">案例</a>\n",
    "            </div>\n",
    "    </body>\n",
    "</html>\n",
    "'''"
   ]
  },
  {
   "cell_type": "code",
   "execution_count": 19,
   "metadata": {},
   "outputs": [],
   "source": [
    "from scrapy.http import HtmlResponse\n",
    "html1=open('./example1.html',encoding='utf-8').read()\n",
    "html2=open('./example2.html',encoding='utf-8').read()\n",
    "response1=HtmlResponse(url='http://example1.com',body=html1,encoding='utf8')\n",
    "response2=HtmlResponse(url='http://example2.com',body=html2,encoding='utf8')"
   ]
  },
  {
   "cell_type": "code",
   "execution_count": 21,
   "metadata": {},
   "outputs": [
    {
     "data": {
      "text/plain": [
       "['http://example1.com/intro/install.html',\n",
       " 'http://example1.com/intro/tutorial.html',\n",
       " 'http://example1.com/examples.html',\n",
       " 'http://stackoverflow.com/tags/scrapy/info',\n",
       " 'https://github.com/scrapy/scrapy']"
      ]
     },
     "execution_count": 21,
     "metadata": {},
     "output_type": "execute_result"
    }
   ],
   "source": [
    "from scrapy.linkextractors import LinkExtractor\n",
    "le=LinkExtractor() # new LinkExtractor对象\n",
    "links=le.extract_links(response1) # response对象中提取links\n",
    "[link.url for link in links]"
   ]
  },
  {
   "cell_type": "code",
   "execution_count": 25,
   "metadata": {},
   "outputs": [
    {
     "data": {
      "text/plain": [
       "['http://example1.com/intro/install.html',\n",
       " 'http://example1.com/intro/tutorial.html']"
      ]
     },
     "execution_count": 25,
     "metadata": {},
     "output_type": "execute_result"
    }
   ],
   "source": [
    "# LinkExtractor构造函数使用allow字段\n",
    "le=LinkExtractor(allow='/intro/.+\\.html$')\n",
    "links=le.extract_links(response1)\n",
    "[link.url for link in links]"
   ]
  },
  {
   "cell_type": "code",
   "execution_count": 27,
   "metadata": {},
   "outputs": [
    {
     "data": {
      "text/plain": [
       "['http://stackoverflow.com/tags/scrapy/info',\n",
       " 'https://github.com/scrapy/scrapy']"
      ]
     },
     "execution_count": 27,
     "metadata": {},
     "output_type": "execute_result"
    }
   ],
   "source": [
    "# LinkExtractor构造函数使用deny字段\n",
    "le=LinkExtractor(deny='\\.html$')\n",
    "links=le.extract_links(response1)\n",
    "[link.url for link in links]"
   ]
  },
  {
   "cell_type": "code",
   "execution_count": 28,
   "metadata": {},
   "outputs": [
    {
     "data": {
      "text/plain": [
       "['http://stackoverflow.com/tags/scrapy/info',\n",
       " 'https://github.com/scrapy/scrapy']"
      ]
     },
     "execution_count": 28,
     "metadata": {},
     "output_type": "execute_result"
    }
   ],
   "source": [
    "# LinkExtractor构造函数使用allow_domains字段\n",
    "domains=['github.com','stackoverflow.com']\n",
    "le=LinkExtractor(allow_domains=domains)\n",
    "links=le.extract_links(response1)\n",
    "[link.url for link in links]"
   ]
  },
  {
   "cell_type": "code",
   "execution_count": 29,
   "metadata": {},
   "outputs": [
    {
     "data": {
      "text/plain": [
       "['http://example1.com/intro/install.html',\n",
       " 'http://example1.com/intro/tutorial.html',\n",
       " 'http://example1.com/examples.html']"
      ]
     },
     "execution_count": 29,
     "metadata": {},
     "output_type": "execute_result"
    }
   ],
   "source": [
    "# LinkExtractor构造函数使用deny_domains字段\n",
    "domains=['github.com','stackoverflow.com']\n",
    "le=LinkExtractor(deny_domains=domains)\n",
    "links=le.extract_links(response1)\n",
    "[link.url for link in links]"
   ]
  },
  {
   "cell_type": "code",
   "execution_count": 30,
   "metadata": {},
   "outputs": [
    {
     "data": {
      "text/plain": [
       "['http://example1.com/intro/install.html',\n",
       " 'http://example1.com/intro/tutorial.html',\n",
       " 'http://example1.com/examples.html']"
      ]
     },
     "execution_count": 30,
     "metadata": {},
     "output_type": "execute_result"
    }
   ],
   "source": [
    "# LinkExtractor构造函数使用restrict_xpath字段\n",
    "le=LinkExtractor(restrict_xpaths='//div[@id=\"top\"]')\n",
    "links=le.extract_links(response1)\n",
    "[link.url for link in links]"
   ]
  },
  {
   "cell_type": "code",
   "execution_count": 32,
   "metadata": {},
   "outputs": [
    {
     "data": {
      "text/plain": [
       "['http://stackoverflow.com/tags/scrapy/info',\n",
       " 'https://github.com/scrapy/scrapy']"
      ]
     },
     "execution_count": 32,
     "metadata": {},
     "output_type": "execute_result"
    }
   ],
   "source": [
    "# LinkExtractor构造函数使用restrict_css字段\n",
    "le=LinkExtractor(restrict_css='div#bottom')\n",
    "links=le.extract_links(response1)\n",
    "[link.url for link in links]"
   ]
  },
  {
   "cell_type": "code",
   "execution_count": 33,
   "metadata": {},
   "outputs": [
    {
     "data": {
      "text/plain": [
       "['http://example2.com/js/app1.js', 'http://example2.com/js/app2.js']"
      ]
     },
     "execution_count": 33,
     "metadata": {},
     "output_type": "execute_result"
    }
   ],
   "source": [
    "# LinkExtractor构造函数使用tags,attrs字段\n",
    "le=LinkExtractor(tags='script',attrs='src')\n",
    "links=le.extract_links(response2)\n",
    "[link.url for link in links]"
   ]
  },
  {
   "cell_type": "code",
   "execution_count": 34,
   "metadata": {},
   "outputs": [
    {
     "data": {
      "text/plain": [
       "['http://example2.com/home.html']"
      ]
     },
     "execution_count": 34,
     "metadata": {},
     "output_type": "execute_result"
    }
   ],
   "source": [
    "# LinkExtractor构造函数使用process_value字段\n",
    "\n",
    "import re\n",
    "def process(value):\n",
    "    m=re.search(\"javascript:goToPage\\'(.*?)'\",value)\n",
    "    if m:\n",
    "        value=m.group(1)\n",
    "    return value\n",
    "\n",
    "le=LinkExtractor(process_value=process)\n",
    "links=le.extract_links(response2)\n",
    "[link.url for link in links]"
   ]
  },
  {
   "cell_type": "code",
   "execution_count": null,
   "metadata": {},
   "outputs": [],
   "source": []
  }
 ],
 "metadata": {
  "kernelspec": {
   "display_name": "Python 3",
   "language": "python",
   "name": "python3"
  },
  "language_info": {
   "codemirror_mode": {
    "name": "ipython",
    "version": 3
   },
   "file_extension": ".py",
   "mimetype": "text/x-python",
   "name": "python",
   "nbconvert_exporter": "python",
   "pygments_lexer": "ipython3",
   "version": "3.6.0"
  }
 },
 "nbformat": 4,
 "nbformat_minor": 2
}
