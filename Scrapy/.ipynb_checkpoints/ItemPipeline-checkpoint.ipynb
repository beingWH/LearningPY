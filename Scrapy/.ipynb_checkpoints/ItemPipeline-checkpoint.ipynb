{
 "cells": [
  {
   "cell_type": "markdown",
   "metadata": {},
   "source": [
    "## Item Pipeline"
   ]
  },
  {
   "cell_type": "markdown",
   "metadata": {},
   "source": [
    "Item Pipeline主要用来处理Item数据，一般有以下典型应用：\n",
    "- 清洗数据\n",
    "- 验证数据有效性\n",
    "- 过滤重复数据\n",
    "- 数据存入数据库"
   ]
  },
  {
   "cell_type": "markdown",
   "metadata": {},
   "source": [
    "### Item Pipeline实现要点"
   ]
  },
  {
   "cell_type": "markdown",
   "metadata": {},
   "source": [
    "- 一个Item Pipeline类不需要继承特定的基类，只需要实现一些特定方法，如process_item,open_spider,close_spider\n",
    "- 一个Item Pipeline类必须实现一个process_item方法，该方法处理一项由Spider爬到的数据，其中包括两个参数：\n",
    "    - Item 一项爬到的数据\n",
    "    - Spider 爬到该数据的Spider对象"
   ]
  },
  {
   "cell_type": "markdown",
   "metadata": {},
   "source": [
    "### 常用方法"
   ]
  },
  {
   "cell_type": "markdown",
   "metadata": {},
   "source": [
    "- open_spider(self,spider)<br>\n",
    "    Spider打开时回调该方法（处理数据前），常用于数据处理前的初始化工作，如连接数据库。\n",
    "\n",
    "- close_spider(self,spider)<br>\n",
    "    Spider关闭后回调该方法（处理数据后），常用于数据处理完后的清理工作，如关闭数据库。\n",
    "\n",
    "- from_crawler(cls,crawler)<br>\n",
    "    创建Item Pipeline对象时回调该方法，通常该方法通过crawler.settings读取配置，根据配置创建Item Pipeline对象。"
   ]
  },
  {
   "cell_type": "markdown",
   "metadata": {},
   "source": [
    "### 启用Item Pipeline"
   ]
  },
  {
   "cell_type": "markdown",
   "metadata": {},
   "source": [
    "在setting.py中进行配置启用Item Pipeline，启用时，后面数字可设置为0~1000中的一个数字，根据数字大小，来决定Item Pipeline中处理数据类的先后顺序，数字小的先处理。"
   ]
  },
  {
   "cell_type": "code",
   "execution_count": null,
   "metadata": {},
   "outputs": [],
   "source": []
  }
 ],
 "metadata": {
  "kernelspec": {
   "display_name": "Python 3",
   "language": "python",
   "name": "python3"
  },
  "language_info": {
   "codemirror_mode": {
    "name": "ipython",
    "version": 3
   },
   "file_extension": ".py",
   "mimetype": "text/x-python",
   "name": "python",
   "nbconvert_exporter": "python",
   "pygments_lexer": "ipython3",
   "version": "3.6.0"
  }
 },
 "nbformat": 4,
 "nbformat_minor": 2
}
