{
 "cells": [
  {
   "cell_type": "markdown",
   "metadata": {},
   "source": [
    "## Spider"
   ]
  },
  {
   "cell_type": "markdown",
   "metadata": {},
   "source": [
    "## 关于yield"
   ]
  },
  {
   "cell_type": "markdown",
   "metadata": {},
   "source": [
    "函数如果包含关键字yield，相当于一个generator。对此，有几点需要牢记：<br>\n",
    "- generator中的变量引用会始终存在\n",
    "- 每次只进行到yield处，返回值，但仍然会把该程序分支执行完毕\n",
    "- return的值不会被抛出"
   ]
  },
  {
   "cell_type": "code",
   "execution_count": 18,
   "metadata": {},
   "outputs": [],
   "source": [
    "def gen():\n",
    "        print('enter')\n",
    "        yield 1\n",
    "        print('next')\n",
    "        yield 2\n",
    "        print('next again')"
   ]
  },
  {
   "cell_type": "code",
   "execution_count": 19,
   "metadata": {},
   "outputs": [],
   "source": [
    "g=gen()"
   ]
  },
  {
   "cell_type": "code",
   "execution_count": 20,
   "metadata": {},
   "outputs": [
    {
     "name": "stdout",
     "output_type": "stream",
     "text": [
      "enter\n"
     ]
    },
    {
     "data": {
      "text/plain": [
       "1"
      ]
     },
     "execution_count": 20,
     "metadata": {},
     "output_type": "execute_result"
    }
   ],
   "source": [
    "# 生成第一个yield值，此处yield被销毁\n",
    "next(g)"
   ]
  },
  {
   "cell_type": "code",
   "execution_count": 21,
   "metadata": {},
   "outputs": [
    {
     "name": "stdout",
     "output_type": "stream",
     "text": [
      "next\n"
     ]
    },
    {
     "data": {
      "text/plain": [
       "2"
      ]
     },
     "execution_count": 21,
     "metadata": {},
     "output_type": "execute_result"
    }
   ],
   "source": [
    "# 生成第二个yield值，此处yield被销毁\n",
    "next(g)"
   ]
  },
  {
   "cell_type": "code",
   "execution_count": 22,
   "metadata": {},
   "outputs": [
    {
     "name": "stdout",
     "output_type": "stream",
     "text": [
      "next again\n"
     ]
    },
    {
     "ename": "StopIteration",
     "evalue": "",
     "output_type": "error",
     "traceback": [
      "\u001b[1;31m---------------------------------------------------------------------------\u001b[0m",
      "\u001b[1;31mStopIteration\u001b[0m                             Traceback (most recent call last)",
      "\u001b[1;32m<ipython-input-22-e734f8aca5ac>\u001b[0m in \u001b[0;36m<module>\u001b[1;34m()\u001b[0m\n\u001b[1;32m----> 1\u001b[1;33m \u001b[0mnext\u001b[0m\u001b[1;33m(\u001b[0m\u001b[0mg\u001b[0m\u001b[1;33m)\u001b[0m\u001b[1;33m\u001b[0m\u001b[0m\n\u001b[0m",
      "\u001b[1;31mStopIteration\u001b[0m: "
     ]
    }
   ],
   "source": [
    "next(g)"
   ]
  },
  {
   "cell_type": "code",
   "execution_count": 23,
   "metadata": {},
   "outputs": [],
   "source": [
    "def fib(max):\n",
    "    a=0\n",
    "    while a<max:\n",
    "        yield a\n",
    "        a=a+1  # 此while程序分支仍然会被执行，但是如果是return a，这里将不会被执行。\n",
    "    return 'Done'"
   ]
  },
  {
   "cell_type": "code",
   "execution_count": 24,
   "metadata": {},
   "outputs": [
    {
     "name": "stdout",
     "output_type": "stream",
     "text": [
      "0\n",
      "1\n",
      "2\n",
      "3\n",
      "4\n"
     ]
    }
   ],
   "source": [
    "for x in fib(5):\n",
    "    print(x)"
   ]
  },
  {
   "cell_type": "code",
   "execution_count": 25,
   "metadata": {},
   "outputs": [],
   "source": [
    "def parse(dict):\n",
    "    for i in dict:\n",
    "        yield i\n",
    "    for j in dict:\n",
    "        yield j*j"
   ]
  },
  {
   "cell_type": "code",
   "execution_count": 26,
   "metadata": {},
   "outputs": [
    {
     "name": "stdout",
     "output_type": "stream",
     "text": [
      "1\n",
      "2\n",
      "3\n",
      "1\n",
      "4\n",
      "9\n"
     ]
    }
   ],
   "source": [
    "d=[1,2,3]\n",
    "for x in parse(d):\n",
    "    print(x)"
   ]
  },
  {
   "cell_type": "markdown",
   "metadata": {},
   "source": [
    "## 分析Spider实例"
   ]
  },
  {
   "cell_type": "code",
   "execution_count": 30,
   "metadata": {},
   "outputs": [],
   "source": [
    "# -*- coding: utf-8 -*-\n",
    "\n",
    "import scrapy\n",
    "\n",
    "class BooksSpider(scrapy.Spider):\n",
    "    name = \"books\" # spider唯一的标识\n",
    "\n",
    "    start_urls=['http://books.toscrape.com/'] # 爬虫起始点\n",
    "\n",
    "    def parse(self, response):\n",
    "        \n",
    "        # -解析Responese处，并生成相应的代谢产物Items-\n",
    "        for book in response.css('article.product_pod'):\n",
    "            name=book.xpath('./h3/a/@title').extract_first()\n",
    "            price=book.css('p.price_color::text').extract_first()\n",
    "            yield {\n",
    "                'name':name,\n",
    "                'price':price,\n",
    "            }\n",
    "            \n",
    "        # -生成下一个url的链接，并产生下一个Request-\n",
    "        next_url=response.css('ul.pager li.next a::attr(href)').extract_first()\n",
    "        if next_url:\n",
    "            next_url=response.urljoin(next_url)\n",
    "            yield scrapy.Request(next_url,callback=self.parse)"
   ]
  },
  {
   "cell_type": "markdown",
   "metadata": {},
   "source": [
    "从以上的实例中，我们主要分析parse函数，parse函数含有yield关键词，说明该函数是一个generator，那么这个generator将会生成一个怎么样的序列？<br>"
   ]
  },
  {
   "cell_type": "markdown",
   "metadata": {},
   "source": [
    "首先，传入一个response对象，将会生成一个完整的for循环的序列，这个序列中包含这个response所有解析出来的Items（name、price），最后，这个generator将会生成下一个url链接，并向engine提交下一次Request请求。"
   ]
  },
  {
   "cell_type": "code",
   "execution_count": null,
   "metadata": {},
   "outputs": [],
   "source": []
  }
 ],
 "metadata": {
  "kernelspec": {
   "display_name": "Python 3",
   "language": "python",
   "name": "python3"
  },
  "language_info": {
   "codemirror_mode": {
    "name": "ipython",
    "version": 3
   },
   "file_extension": ".py",
   "mimetype": "text/x-python",
   "name": "python",
   "nbconvert_exporter": "python",
   "pygments_lexer": "ipython3",
   "version": "3.6.0"
  }
 },
 "nbformat": 4,
 "nbformat_minor": 2
}
