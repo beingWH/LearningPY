{
 "cells": [
  {
   "cell_type": "markdown",
   "metadata": {},
   "source": [
    "## Scrapy概述"
   ]
  },
  {
   "cell_type": "markdown",
   "metadata": {},
   "source": [
    "![](http://www.bkjia.com/uploads/allimg/150531/051S24401-0.png)"
   ]
  },
  {
   "cell_type": "markdown",
   "metadata": {},
   "source": [
    "- Engine引擎 各组件协同工作\n",
    "- Spider爬虫 产生页面下载请求、负责提取页面数据\n",
    "- Scheduler调度器 负责对Spider提交的下载请求进行调度\n",
    "- Downloader下载器 负责下载页面（发送HTTP请求和响应）\n",
    "- Item Popeline数据管道 负责对爬取到的数据进行处理\n",
    "- Middlewares中间件 负责对Request和Response对象进行处理"
   ]
  },
  {
   "cell_type": "markdown",
   "metadata": {},
   "source": [
    "## Request"
   ]
  },
  {
   "cell_type": "markdown",
   "metadata": {},
   "source": [
    "Request对象用来描述HTTP请求，其构造器方法参数如下：\n",
    "\n",
    "```\n",
    "Request(url,callback=None,method='GET',headers=None,body=None,cookies=None,meta=None,encoding='utf-8',priority=0,dont_filter=False,errback=None,flages=None)\n",
    "```\n",
    "\n",
    "- url 页面url地址，bytes或str类型\n",
    "- callback 页面解析函数，Callable类型，默认为Spider的parse方法\n",
    "- method HTTP请求方法\n",
    "- headers HTTP请求的头部字典，dict类型\n",
    "- body HTTP请求的正文，bytes或str类型\n",
    "- cookies 信息字典，dict类型\n",
    "- meta 元数据字典，dict类型，用于给其他组件如Item Pipeline传递信息\n",
    "- encoding 字符集，默认为utf-8\n",
    "- priority 优先级，默认为优先级高的先下载\n",
    "- dont_filter 去重过滤器\n",
    "- errback HTTP错误回调函数"
   ]
  },
  {
   "cell_type": "markdown",
   "metadata": {},
   "source": [
    "## Response"
   ]
  },
  {
   "cell_type": "markdown",
   "metadata": {},
   "source": [
    "Response用来描述一个HTTP响应，Response有子类```TextResponse```,TextResponse又有子类```HtmlResponse```及```XmlResponse```。"
   ]
  },
  {
   "cell_type": "markdown",
   "metadata": {},
   "source": [
    "- url<br>\n",
    "HTTP响应url地址，str类型\n",
    "- status<br>\n",
    "HTTP响应的状态码，int类型，例如200，404\n",
    "- headers<br>\n",
    "HTTP响应头部，可以调用get或getlist方法进行方法问\n",
    "```\n",
    "response.headers.get('Content-Type')\n",
    "response.headers.getlist('Set-Cookie')\n",
    "```\n",
    "- body<br>\n",
    "HTTP响应正文，bytes类型\n",
    "- text<br>\n",
    "文本形式的HTTP响应正文，str类型\n",
    "- encoding<br>\n",
    "HTTP响应正文的编码，从HTTP响应头部或正文解析出来的\n",
    "- request<br>\n",
    "HTTP响应的Request对象\n",
    "- meta<br>\n",
    "response.request.meta\n",
    "- selector<br>\n",
    "Selector对象用于在Response中提取数据。\n",
    "- xpath<br>\n",
    "使用XPath选择器在Response中提取数据，实际上它是response.selector.xpath方法的快捷方式\n",
    "- css<br>\n",
    "使用CSS选择器在Response中提取数据，实际上它是response.selector.css方法的快捷方式\n",
    "- urljoin<br>\n",
    "用于构造绝对url"
   ]
  }
 ],
 "metadata": {
  "kernelspec": {
   "display_name": "Python 3",
   "language": "python",
   "name": "python3"
  },
  "language_info": {
   "codemirror_mode": {
    "name": "ipython",
    "version": 3
   },
   "file_extension": ".py",
   "mimetype": "text/x-python",
   "name": "python",
   "nbconvert_exporter": "python",
   "pygments_lexer": "ipython3",
   "version": "3.6.0"
  }
 },
 "nbformat": 4,
 "nbformat_minor": 2
}
