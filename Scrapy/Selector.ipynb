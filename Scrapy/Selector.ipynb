{
 "cells": [
  {
   "cell_type": "markdown",
   "metadata": {},
   "source": [
    "## Selector对象"
   ]
  },
  {
   "cell_type": "markdown",
   "metadata": {},
   "source": [
    "Selector对象用于解析HTTP文本，主要通过XPath和CSS选择器来提取。"
   ]
  },
  {
   "cell_type": "code",
   "execution_count": 19,
   "metadata": {},
   "outputs": [],
   "source": [
    "# 创建对象\n",
    "from scrapy.selector import Selector\n",
    "\n",
    "text='''\n",
    "    <html>\n",
    "        <body>\n",
    "            <h1>Hello World</h1>\n",
    "            <h1>Hello Scrapy</h1>\n",
    "            <b>Hello Python</b>\n",
    "            <ul>\n",
    "                <li>C++</li>\n",
    "                <li>Java</li>\n",
    "                <li>Python</li>\n",
    "            </ul>\n",
    "            <ul>\n",
    "                <li>Python学习手册 <b>价格：99.00元</b></li>\n",
    "                <li>Python核心编程 <b>价格：88.00元</b></li>\n",
    "                <li>Python基础教程 <b>价格：80.00元</b></li>                \n",
    "            </ul>\n",
    "        </body>\n",
    "    </html>\n",
    "'''"
   ]
  },
  {
   "cell_type": "code",
   "execution_count": 20,
   "metadata": {},
   "outputs": [],
   "source": [
    "selector=Selector(text=text)"
   ]
  },
  {
   "cell_type": "code",
   "execution_count": 21,
   "metadata": {},
   "outputs": [
    {
     "data": {
      "text/plain": [
       "<Selector xpath=None data='<html>\\n        <body>\\n            <h1>He'>"
      ]
     },
     "execution_count": 21,
     "metadata": {},
     "output_type": "execute_result"
    }
   ],
   "source": [
    "selector"
   ]
  },
  {
   "cell_type": "code",
   "execution_count": 30,
   "metadata": {},
   "outputs": [
    {
     "data": {
      "text/plain": [
       "[<Selector xpath='//h1' data='<h1>Hello World</h1>'>,\n",
       " <Selector xpath='//h1' data='<h1>Hello Scrapy</h1>'>]"
      ]
     },
     "execution_count": 30,
     "metadata": {},
     "output_type": "execute_result"
    }
   ],
   "source": [
    "# 选中数据\n",
    "# xpath和css方法可以用来提取Selector对象中想要的部分。\n",
    "# xpath和css方法返回一个SelectorList，这个List中包含了那些想要的Selector对象。\n",
    "selector_list=selector.xpath('//h1')\n",
    "selector_list"
   ]
  },
  {
   "cell_type": "code",
   "execution_count": 31,
   "metadata": {},
   "outputs": [
    {
     "name": "stdout",
     "output_type": "stream",
     "text": [
      "[<Selector xpath='./text()' data='Hello World'>]\n",
      "[<Selector xpath='./text()' data='Hello Scrapy'>]\n"
     ]
    }
   ],
   "source": [
    "for sel in selector_list:\n",
    "    print(sel.xpath('./text()')) # 仅提取了文本部分，<h1>节点已去除"
   ]
  },
  {
   "cell_type": "code",
   "execution_count": 32,
   "metadata": {
    "scrolled": true
   },
   "outputs": [
    {
     "name": "stdout",
     "output_type": "stream",
     "text": [
      "['Hello World'] <class 'list'>\n",
      "['Hello Scrapy'] <class 'list'>\n"
     ]
    }
   ],
   "source": [
    "# 提取数据\n",
    "# extract方法\n",
    "# 该方法返回一个list对象\n",
    "for sel in selector_list:\n",
    "    print(sel.xpath('./text()').extract(),type(sel.xpath('./text()').extract()))\n"
   ]
  },
  {
   "cell_type": "code",
   "execution_count": 33,
   "metadata": {},
   "outputs": [
    {
     "name": "stdout",
     "output_type": "stream",
     "text": [
      "['<h1>Hello World</h1>', '<h1>Hello Scrapy</h1>'] <class 'list'>\n"
     ]
    }
   ],
   "source": [
    "print(selector_list.extract(),type(selector_list.extract()))"
   ]
  },
  {
   "cell_type": "code",
   "execution_count": 34,
   "metadata": {},
   "outputs": [
    {
     "name": "stdout",
     "output_type": "stream",
     "text": [
      "Hello World <class 'str'>\n",
      "Hello Scrapy <class 'str'>\n"
     ]
    }
   ],
   "source": [
    "# extract_first方法\n",
    "# 该方法直接提取字符串\n",
    "# 该方法如果使用在SelectorList对象上，只提取list中的第一个Selector对象的字符串值\n",
    "for sel in selector_list:\n",
    "    print(sel.xpath('./text()').extract_first(),type(sel.xpath('./text()').extract_first()))"
   ]
  },
  {
   "cell_type": "code",
   "execution_count": 35,
   "metadata": {},
   "outputs": [
    {
     "name": "stdout",
     "output_type": "stream",
     "text": [
      "<h1>Hello World</h1> <class 'str'>\n"
     ]
    }
   ],
   "source": [
    "print(selector_list.extract_first(),type(selector_list.extract_first()))"
   ]
  },
  {
   "cell_type": "code",
   "execution_count": 38,
   "metadata": {},
   "outputs": [
    {
     "data": {
      "text/plain": [
       "[<Selector xpath='.//li/b/text()' data='价格：99.00元'>,\n",
       " <Selector xpath='.//li/b/text()' data='价格：88.00元'>,\n",
       " <Selector xpath='.//li/b/text()' data='价格：80.00元'>]"
      ]
     },
     "execution_count": 38,
     "metadata": {},
     "output_type": "execute_result"
    }
   ],
   "source": [
    "# re方法，使用正则表达式提取内容中的某部分\n",
    "# 该方法返回一个str组成的list\n",
    "selector_list=selector.xpath('.//li/b/text()')\n",
    "selector_list"
   ]
  },
  {
   "cell_type": "code",
   "execution_count": 42,
   "metadata": {},
   "outputs": [
    {
     "name": "stdout",
     "output_type": "stream",
     "text": [
      "['99.00', '88.00', '80.00'] <class 'list'>\n"
     ]
    }
   ],
   "source": [
    "print(selector_list.re('\\d+\\.\\d+'),type(selector_list.re('\\d+\\.\\d+')))"
   ]
  },
  {
   "cell_type": "code",
   "execution_count": 43,
   "metadata": {},
   "outputs": [
    {
     "name": "stdout",
     "output_type": "stream",
     "text": [
      "99.00 <class 'str'>\n"
     ]
    }
   ],
   "source": [
    "# re_first方法，类似于extract_first方法\n",
    "print(selector_list.re_first('\\d+\\.\\d+'),type(selector_list.re_first('\\d+\\.\\d+')))"
   ]
  },
  {
   "cell_type": "code",
   "execution_count": 44,
   "metadata": {},
   "outputs": [
    {
     "name": "stdout",
     "output_type": "stream",
     "text": [
      "99.00 <class 'str'>\n",
      "88.00 <class 'str'>\n",
      "80.00 <class 'str'>\n"
     ]
    }
   ],
   "source": [
    "for sel in selector_list:\n",
    "    print(sel.re_first('\\d+\\.\\d+'),type(sel.re_first('\\d+\\.\\d+')))"
   ]
  },
  {
   "cell_type": "code",
   "execution_count": null,
   "metadata": {},
   "outputs": [],
   "source": []
  }
 ],
 "metadata": {
  "kernelspec": {
   "display_name": "Python 3",
   "language": "python",
   "name": "python3"
  },
  "language_info": {
   "codemirror_mode": {
    "name": "ipython",
    "version": 3
   },
   "file_extension": ".py",
   "mimetype": "text/x-python",
   "name": "python",
   "nbconvert_exporter": "python",
   "pygments_lexer": "ipython3",
   "version": "3.6.0"
  }
 },
 "nbformat": 4,
 "nbformat_minor": 2
}
