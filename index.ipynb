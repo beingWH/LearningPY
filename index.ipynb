{
 "cells": [
  {
   "cell_type": "markdown",
   "metadata": {},
   "source": [
    "# Python自学笔记\n",
    "\n",
    "> Author：huanhuan<br>\n",
    "> Reference:[廖雪峰Python学习](https://www.liaoxuefeng.com/wiki/0014316089557264a6b348958f449949df42a6d3a2e542c000)\n",
    "\n",
    "## 目录\n",
    "\n",
    "- [01. **基础知识**]\n",
    "    - [数据类型和变量](https://nbviewer.jupyter.org/github/beingWH/LearningPY/blob/master/Basics/datatype.ipynb)\n",
    "    - [列表和元组](https://nbviewer.jupyter.org/github/beingWH/LearningPY/blob/master/Basics/ListAndTurple.ipynb)\n",
    "    - [条件判断和循环](https://nbviewer.jupyter.org/github/beingWH/LearningPY/blob/master/Basics/ifandfor.ipynb)\n",
    "    - [字典与集合](https://nbviewer.jupyter.org/github/beingWH/LearningPY/blob/master/Basics/dictandset.ipynb)\n",
    "- [02. **函数基础**]\n",
    "    - [函数基础](https://nbviewer.jupyter.org/github/beingWH/LearningPY/blob/master/Function/function.ipynb)\n",
    "- [03. **高级特性**]\n",
    "    - [高级特性](https://nbviewer.jupyter.org/github/beingWH/LearningPY/blob/master/Features/features.ipynb)\n",
    "- [04. **函数式编程**]\n",
    "    - [高阶函数](https://nbviewer.jupyter.org/github/beingWH/LearningPY/blob/master/FuncProgram/high-order func.ipynb)\n",
    "- [05. **面向对象**]\n",
    "    - [类和实例](https://nbviewer.jupyter.org/github/beingWH/LearningPY/blob/master/ObjProgram/classandinstance.ipynb)\n",
    "    - [继承与多态](https://nbviewer.jupyter.org/github/beingWH/LearningPY/blob/master/ObjProgram/inherit.ipynb)\n",
    "    - [对象信息](https://nbviewer.jupyter.org/github/beingWH/LearningPY/blob/master/ObjProgram/objectinfo.ipynb)\n",
    "    - [属性](https://nbviewer.jupyter.org/github/beingWH/LearningPY/blob/master/ObjProgram/Attr.ipynb)\n",
    "    - [\\_slot\\_](https://nbviewer.jupyter.org/github/beingWH/LearningPY/blob/master/ObjProgram/__slots__.ipynb)\n",
    "    - [@property](https://nbviewer.jupyter.org/github/beingWH/LearningPY/blob/master/ObjProgram/property.ipynb)\n",
    "- [06. **数据库连接**]\n",
    "    - [MongoDB连接](https://nbviewer.jupyter.org/github/beingWH/LearningPY/blob/master/LinkMongo/LinkMongoDB.ipynb)\n",
    "- [07. **IO操作**]\n",
    "    - [文件IO](https://nbviewer.jupyter.org/github/beingWH/LearningPY/blob/master/IO/fileIO.ipynb)\n",
    "    - [StringIO/BytesIO](https://nbviewer.jupyter.org/github/beingWH/LearningPY/blob/master/IO/StringIOandBytesIO.ipynb)\n",
    "    - [系统文件](https://nbviewer.jupyter.org/github/beingWH/LearningPY/blob/master/IO/SystemFileandDir.ipynb)\n",
    "    - [序列化](https://nbviewer.jupyter.org/github/beingWH/LearningPY/blob/master/IO/serialize.ipynb)\n",
    "- [08. **错误处理**]\n",
    "    - [错误处理](https://nbviewer.jupyter.org/github/beingWH/LearningPY/blob/master/Error/ErrorHandle.ipynb)\n",
    "- [09. **Scrapy**]\n",
    "    - [Scrapy概述](https://nbviewer.jupyter.org/github/beingWH/LearningPY/blob/master/Scrapy/ScrapyGuideline.ipynb)\n",
    "    - [Spider](https://nbviewer.jupyter.org/github/beingWH/LearningPY/blob/master/Scrapy/Spider.ipynb)\n",
    "    - [Selector](https://nbviewer.jupyter.org/github/beingWH/LearningPY/blob/master/Scrapy/Selector.ipynb)\n",
    "    - [Item](https://nbviewer.jupyter.org/github/beingWH/LearningPY/blob/master/Scrapy/Item.ipynb)\n",
    "    - [Item Pipeline](https://nbviewer.jupyter.org/github/beingWH/LearningPY/blob/master/Scrapy/ItemPipeline.ipynb)\n",
    "    - [LinkExtractor](https://nbviewer.jupyter.org/github/beingWH/LearningPY/blob/master/Scrapy/LinkExtractor.ipynb)\n",
    "    - [Exporter](https://nbviewer.jupyter.org/github/beingWH/LearningPY/blob/master/Scrapy/Exporter.ipynb)\n",
    "- [10. **正则表达式**]\n",
    "    - [Regular Expression](https://nbviewer.jupyter.org/github/beingWH/LearningPY/blob/master/Scrapy/Regular.ipynb)"
   ]
  },
  {
   "cell_type": "code",
   "execution_count": null,
   "metadata": {},
   "outputs": [],
   "source": []
  }
 ],
 "metadata": {
  "kernelspec": {
   "display_name": "Python 3",
   "language": "python",
   "name": "python3"
  },
  "language_info": {
   "codemirror_mode": {
    "name": "ipython",
    "version": 3
   },
   "file_extension": ".py",
   "mimetype": "text/x-python",
   "name": "python",
   "nbconvert_exporter": "python",
   "pygments_lexer": "ipython3",
   "version": "3.6.0"
  }
 },
 "nbformat": 4,
 "nbformat_minor": 2
}
