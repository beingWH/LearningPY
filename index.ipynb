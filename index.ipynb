{
 "cells": [
  {
   "cell_type": "markdown",
   "metadata": {},
   "source": [
    "# Python自学笔记\n",
    "\n",
    "> Author：huanhuan<br>\n",
    "> Reference:[廖雪峰Python学习](https://www.liaoxuefeng.com/wiki/0014316089557264a6b348958f449949df42a6d3a2e542c000)\n",
    "\n",
    "## 目录\n",
    "\n",
    "- [01. **基础知识**]\n",
    "    - [数据类型和变量](https://nbviewer.jupyter.org/github/beingWH/LearningPY/blob/master/Basics/datatype.ipynb)\n",
    "    - [列表和元组](https://nbviewer.jupyter.org/github/beingWH/LearningPY/blob/master/Basics/ListAndTurple.ipynb)\n",
    "    - [条件判断和循环](https://nbviewer.jupyter.org/github/beingWH/LearningPY/blob/master/Basics/ifandfor.ipynb)\n",
    "    - [字典与集合](https://nbviewer.jupyter.org/github/beingWH/LearningPY/blob/master/Basics/dictandset.ipynb)\n",
    "- [02. **函数基础**]\n",
    "    - [函数基础](https://nbviewer.jupyter.org/github/beingWH/LearningPY/blob/master/Function/function.ipynb)\n",
    "- [03. **高级特性**]\n",
    "    - [高级特性](https://nbviewer.jupyter.org/github/beingWH/LearningPY/blob/master/Features/features.ipynb)\n",
    "- [04. **函数式编程**]\n",
    "    - [高阶函数](https://nbviewer.jupyter.org/github/beingWH/LearningPY/blob/master/FuncProgram/high-order func.ipynb)\n",
    "- [05. **面向对象**]\n",
    "    - [类和实例](https://nbviewer.jupyter.org/github/beingWH/LearningPY/blob/master/ObjProgram/classandinstance.ipynb)\n",
    "- [06. **数据库连接**]\n",
    "    - [MongoDB连接](https://nbviewer.jupyter.org/github/beingWH/LearningPY/blob/master/LinkMongo/LinkMongoDB.ipynb)"
   ]
  },
  {
   "cell_type": "code",
   "execution_count": null,
   "metadata": {},
   "outputs": [],
   "source": []
  }
 ],
 "metadata": {
  "kernelspec": {
   "display_name": "Python 3",
   "language": "python",
   "name": "python3"
  },
  "language_info": {
   "codemirror_mode": {
    "name": "ipython",
    "version": 3
   },
   "file_extension": ".py",
   "mimetype": "text/x-python",
   "name": "python",
   "nbconvert_exporter": "python",
   "pygments_lexer": "ipython3",
   "version": "3.6.0"
  }
 },
 "nbformat": 4,
 "nbformat_minor": 2
}
