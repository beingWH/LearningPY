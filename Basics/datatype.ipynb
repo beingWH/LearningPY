{
 "cells": [
  {
   "cell_type": "markdown",
   "metadata": {},
   "source": [
    "# 数据类型和变量\n",
    "\n",
    "## 整数\n",
    "十进制：1，100，-8080，0<br>\n",
    "十六进制：0xff00，0xae5b<br>\n",
    "\n",
    "## 浮点数\n",
    "\n",
    "把10用e代替,如1.23e-9或者1.23e-9\n",
    "\n",
    "## 字符串\n",
    "\n",
    "比如要输出 I'm ok!"
   ]
  },
  {
   "cell_type": "code",
   "execution_count": 4,
   "metadata": {},
   "outputs": [
    {
     "name": "stdout",
     "output_type": "stream",
     "text": [
      "I'm ok!\n"
     ]
    }
   ],
   "source": [
    "print(\"I\\'m ok!\")"
   ]
  },
  {
   "cell_type": "code",
   "execution_count": null,
   "metadata": {},
   "outputs": [],
   "source": []
  }
 ],
 "metadata": {
  "kernelspec": {
   "display_name": "Python 3",
   "language": "python",
   "name": "python3"
  },
  "language_info": {
   "codemirror_mode": {
    "name": "ipython",
    "version": 3
   },
   "file_extension": ".py",
   "mimetype": "text/x-python",
   "name": "python",
   "nbconvert_exporter": "python",
   "pygments_lexer": "ipython3",
   "version": "3.6.0"
  }
 },
 "nbformat": 4,
 "nbformat_minor": 2
}
