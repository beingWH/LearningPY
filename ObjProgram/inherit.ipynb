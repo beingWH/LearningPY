{
 "cells": [
  {
   "cell_type": "markdown",
   "metadata": {},
   "source": [
    "# 继承和多态\n",
    "\n",
    "定义一个class，当某个class对其继承时，被称为子类（Subclass），被继承的class被称为基类、父类或超类（Baseclass、Superclass）。"
   ]
  },
  {
   "cell_type": "code",
   "execution_count": 2,
   "metadata": {},
   "outputs": [],
   "source": [
    "# 定义一个Person类\n",
    "class Person(object):\n",
    "    def eat(self):\n",
    "        print('Person is eating')"
   ]
  },
  {
   "cell_type": "code",
   "execution_count": 3,
   "metadata": {},
   "outputs": [],
   "source": [
    "# 当我们定义Student类或Teacher类时，就可以直接从Person类继承\n",
    "class Student(Person):\n",
    "    pass\n",
    "class Teacher(Person):\n",
    "    pass"
   ]
  },
  {
   "cell_type": "markdown",
   "metadata": {},
   "source": [
    "继承的目的是让子类直接获得父类的全部功能。"
   ]
  },
  {
   "cell_type": "code",
   "execution_count": 4,
   "metadata": {},
   "outputs": [
    {
     "name": "stdout",
     "output_type": "stream",
     "text": [
      "Person is eating\n",
      "Person is eating\n"
     ]
    }
   ],
   "source": [
    "student=Student()\n",
    "student.eat()\n",
    "teacher=Teacher()\n",
    "teacher.eat()"
   ]
  },
  {
   "cell_type": "markdown",
   "metadata": {},
   "source": [
    "子类可以重载父类方法，也可以新增自己的方法。"
   ]
  },
  {
   "cell_type": "code",
   "execution_count": 5,
   "metadata": {},
   "outputs": [],
   "source": [
    "class Student(Person):\n",
    "    def eat(self):\n",
    "        print('Student is eating')\n",
    "    def read(self):\n",
    "        print('Student need read book')"
   ]
  },
  {
   "cell_type": "code",
   "execution_count": 11,
   "metadata": {},
   "outputs": [
    {
     "name": "stdout",
     "output_type": "stream",
     "text": [
      "Student is eating\n"
     ]
    }
   ],
   "source": [
    "badstudent=Student()\n",
    "badstudent.eat()"
   ]
  },
  {
   "cell_type": "code",
   "execution_count": 12,
   "metadata": {},
   "outputs": [
    {
     "name": "stdout",
     "output_type": "stream",
     "text": [
      "Student need read book\n"
     ]
    }
   ],
   "source": [
    "goodstudent=Student()\n",
    "goodstudent.read()"
   ]
  },
  {
   "cell_type": "markdown",
   "metadata": {},
   "source": [
    "当我们定义一个class的时候，我们实际上就定义了一种数据类型。我们定义的数据类型和Python自带的数据类型，比如str、list、dict没什么两样："
   ]
  },
  {
   "cell_type": "code",
   "execution_count": 13,
   "metadata": {},
   "outputs": [
    {
     "data": {
      "text/plain": [
       "True"
      ]
     },
     "execution_count": 13,
     "metadata": {},
     "output_type": "execute_result"
    }
   ],
   "source": [
    "isinstance(badstudent,Student)"
   ]
  },
  {
   "cell_type": "code",
   "execution_count": 14,
   "metadata": {},
   "outputs": [
    {
     "data": {
      "text/plain": [
       "True"
      ]
     },
     "execution_count": 14,
     "metadata": {},
     "output_type": "execute_result"
    }
   ],
   "source": [
    "isinstance(badstudent,Person)"
   ]
  },
  {
   "cell_type": "code",
   "execution_count": 15,
   "metadata": {},
   "outputs": [],
   "source": [
    "class Teacher(Person):\n",
    "    def eat(self):\n",
    "        print('Teacher is eating')\n",
    "    def read(self):\n",
    "        print('Teacher dont need read book')"
   ]
  },
  {
   "cell_type": "code",
   "execution_count": 16,
   "metadata": {},
   "outputs": [],
   "source": [
    "# 要理解多态的好处，我们还需要再编写一个函数，这个函数接受一个Animal类型的变量：\n",
    "def eat_twice(person):\n",
    "    person.eat()\n",
    "    person.eat()"
   ]
  },
  {
   "cell_type": "code",
   "execution_count": 18,
   "metadata": {},
   "outputs": [
    {
     "name": "stdout",
     "output_type": "stream",
     "text": [
      "Person is eating\n",
      "Person is eating\n"
     ]
    }
   ],
   "source": [
    "eat_twice(Person())"
   ]
  },
  {
   "cell_type": "code",
   "execution_count": 20,
   "metadata": {},
   "outputs": [
    {
     "name": "stdout",
     "output_type": "stream",
     "text": [
      "Student is eating\n",
      "Student is eating\n"
     ]
    }
   ],
   "source": [
    "eat_twice(Student())"
   ]
  },
  {
   "cell_type": "code",
   "execution_count": 21,
   "metadata": {},
   "outputs": [
    {
     "name": "stdout",
     "output_type": "stream",
     "text": [
      "Teacher is eating\n",
      "Teacher is eating\n"
     ]
    }
   ],
   "source": [
    "eat_twice(Teacher())"
   ]
  },
  {
   "cell_type": "markdown",
   "metadata": {},
   "source": [
    "你会发现，新增一个Person的子类，不必对eat_twice()做任何修改，实际上，任何依赖Person作为参数的函数或者方法都可以不加修改地正常运行，原因就在于多态。<br>\n",
    "多态的好处就是，当我们需要传入Student、Teacher……时，我们只需要接收Person类型就可以了，因为Student、Teacher……都是Person类型，然后，按照Person类型进行操作即可。由于Person类型有eat()方法，因此，传入的任意类型，只要是Person类或者子类，就会自动调用实际类型的eat()方法，这就是多态的意思：<br>\n",
    "对于一个变量，我们只需要知道它是Person类型，无需确切地知道它的子类型，就可以放心地调用eat()方法，而具体调用的eat()方法是作用在Person、Student、Teacher对象上……，由运行时该对象的确切类型决定，这就是多态真正的威力：调用方只管调用，不管细节，而当我们新增一种Person的子类时，只要确保run()方法编写正确，不用管原来的代码是如何调用的。这就是著名的“开闭”原则：<br>\n",
    "对扩展开放：允许新增Person子类；<br>\n",
    "对修改封闭：不需要修改依赖Person类型的eat_twice()等函数。<br>\n",
    "继承还可以一级一级地继承下来，就好比从爷爷到爸爸、再到儿子这样的关系。而任何类，最终都可以追溯到根类object，这些继承关系看上去就像一颗倒着的树。<br>"
   ]
  },
  {
   "cell_type": "markdown",
   "metadata": {},
   "source": [
    "对于静态语言（例如Java）来说，如果需要传入Person类型，则传入的对象必须是Person类型或者它的子类，否则，将无法调用eat()方法。\n",
    "对于Python这样的动态语言来说，则不一定需要传入Person类型。我们只需要保证传入的对象有一个eat()方法就可以了."
   ]
  },
  {
   "cell_type": "markdown",
   "metadata": {},
   "source": [
    "这就是动态语言的“鸭子类型”，它并不要求严格的继承体系，一个对象只要“看起来像鸭子，走起路来像鸭子”，那它就可以被看做是鸭子。\n",
    "Python的“file-like object“就是一种鸭子类型。对真正的文件对象，它有一个read()方法，返回其内容。但是，许多对象，只要有read()方法，都被视为“file-like object“。许多函数接收的参数就是“file-like object“，你不一定要传入真正的文件对象，完全可以传入任何实现了read()方法的对象。"
   ]
  },
  {
   "cell_type": "code",
   "execution_count": null,
   "metadata": {},
   "outputs": [],
   "source": []
  }
 ],
 "metadata": {
  "kernelspec": {
   "display_name": "Python 3",
   "language": "python",
   "name": "python3"
  },
  "language_info": {
   "codemirror_mode": {
    "name": "ipython",
    "version": 3
   },
   "file_extension": ".py",
   "mimetype": "text/x-python",
   "name": "python",
   "nbconvert_exporter": "python",
   "pygments_lexer": "ipython3",
   "version": "3.6.0"
  }
 },
 "nbformat": 4,
 "nbformat_minor": 2
}
