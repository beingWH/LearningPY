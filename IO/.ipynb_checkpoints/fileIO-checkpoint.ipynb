{
 "cells": [
  {
   "cell_type": "markdown",
   "metadata": {},
   "source": [
    "## 读文件"
   ]
  },
  {
   "cell_type": "markdown",
   "metadata": {},
   "source": [
    "### 文本文件"
   ]
  },
  {
   "cell_type": "markdown",
   "metadata": {},
   "source": [
    "读写文件前，我们先必须了解一下，在磁盘上读写文件的功能都是由操作系统提供的，现代操作系统不允许普通的程序直接操作磁盘，所以，读写文件就是请求操作系统打开一个文件对象（通常称为文件描述符），然后，通过操作系统提供的接口从这个文件对象中读取数据（读文件），或者把数据写入这个文件对象（写文件）。"
   ]
  },
  {
   "cell_type": "code",
   "execution_count": 1,
   "metadata": {},
   "outputs": [],
   "source": [
    "# 读文件\n",
    "# 要以读文件的模式‘r’模式打开一个文件对象，使用Python内置open（）函数，传入文件名和标识符\n",
    "# 绝对路径\n",
    "f=open('C:/log.log','r')"
   ]
  },
  {
   "cell_type": "code",
   "execution_count": 2,
   "metadata": {},
   "outputs": [
    {
     "data": {
      "text/plain": [
       "'2017-07-04 14:19:54,936 [1] ERROR ASP.global_asax [(null)] - 调试\\n2017-07-04 14:35:56,559 [1] ERROR ASP.global_asax [(null)] - 程序重开节点\\n2017-07-05 16:09:41,901 [1] ERROR ASP.global_asax [(null)] - 程序重开节点\\n2017-07-05 16:11:29,242 [1] ERROR ASP.global_asax [(null)] - 程序重开节点\\n2017-07-05 16:15:37,850 [1] ERROR ASP.global_asax [(null)] - 程序重开节点\\n2017-07-05 16:18:28,403 [1] ERROR ASP.global_asax [(null)] - 程序重开节点\\n2017-07-05 16:22:06,484 [1] ERROR ASP.global_asax [(null)] - 程序重开节点\\n2017-07-05 16:23:10,252 [1] ERROR ASP.global_asax [(null)] - 程序重开节点\\n2017-07-05 16:24:38,100 [1] ERROR ASP.global_asax [(null)] - 程序重开节点\\n2017-07-05 16:27:01,076 [1] ERROR ASP.global_asax [(null)] - 程序重开节点\\n2017-07-06 08:00:20,437 [1] ERROR ASP.global_asax [(null)] - 程序重开节点\\n2017-07-06 14:58:04,475 [1] ERROR ASP.global_asax [(null)] - 程序重开节点\\n2017-07-06 15:33:38,977 [1] ERROR ASP.global_asax [(null)] - 程序重开节点\\n2017-07-06 15:34:50,828 [1] ERROR ASP.global_asax [(null)] - 程序重开节点\\n2017-07-06 15:35:58,133 [1] ERROR ASP.global_asax [(null)] - 程序重开节点\\n2017-07-06 15:37:04,496 [1] ERROR ASP.global_asax [(null)] - 程序重开节点\\n2017-07-06 15:38:08,837 [1] ERROR ASP.global_asax [(null)] - 程序重开节点\\n2017-07-06 15:39:29,897 [1] ERROR ASP.global_asax [(null)] - 程序重开节点\\n2017-07-06 15:41:16,272 [1] ERROR ASP.global_asax [(null)] - 程序重开节点\\n2017-07-06 15:42:50,867 [1] ERROR ASP.global_asax [(null)] - 程序重开节点\\n2017-07-06 15:45:13,259 [1] ERROR ASP.global_asax [(null)] - 程序重开节点\\n2017-07-06 15:48:27,659 [1] ERROR ASP.global_asax [(null)] - 程序重开节点\\n2017-07-07 13:53:14,128 [1] ERROR ASP.global_asax [(null)] - 程序重开节点\\n2017-07-07 13:53:55,503 [1] ERROR ASP.global_asax [(null)] - 程序重开节点\\n2017-07-07 13:56:31,478 [1] ERROR ASP.global_asax [(null)] - 程序重开节点\\n2017-07-07 14:10:04,994 [1] ERROR ASP.global_asax [(null)] - 程序重开节点\\n2017-07-07 14:13:33,912 [1] ERROR ASP.global_asax [(null)] - 程序重开节点\\n2017-07-07 14:14:56,774 [1] ERROR ASP.global_asax [(null)] - 程序重开节点\\n2017-07-07 14:20:15,451 [1] ERROR ASP.global_asax [(null)] - 程序重开节点\\n2017-07-07 14:29:52,452 [1] ERROR ASP.global_asax [(null)] - 程序重开节点\\n2017-07-07 14:30:45,257 [1] ERROR ASP.global_asax [(null)] - 程序重开节点\\n2017-07-07 14:50:36,391 [1] ERROR ASP.global_asax [(null)] - 程序重开节点\\n2017-07-07 15:24:13,123 [1] ERROR ASP.global_asax [(null)] - 程序重开节点\\n2017-07-07 15:28:13,432 [1] ERROR ASP.global_asax [(null)] - 程序重开节点\\n2017-07-07 15:34:04,520 [1] ERROR ASP.global_asax [(null)] - 程序重开节点\\n2017-07-07 15:59:13,040 [1] ERROR ASP.global_asax [(null)] - 程序重开节点\\n2017-07-07 16:05:53,871 [1] ERROR ASP.global_asax [(null)] - 程序重开节点\\n2017-07-07 16:24:25,090 [1] ERROR ASP.global_asax [(null)] - 程序重开节点\\n'"
      ]
     },
     "execution_count": 2,
     "metadata": {},
     "output_type": "execute_result"
    }
   ],
   "source": [
    "f.read()"
   ]
  },
  {
   "cell_type": "code",
   "execution_count": 6,
   "metadata": {},
   "outputs": [
    {
     "data": {
      "text/plain": [
       "'Hello Python!'"
      ]
     },
     "execution_count": 6,
     "metadata": {},
     "output_type": "execute_result"
    }
   ],
   "source": [
    "# 相对路径\n",
    "f=open('./file.txt','r')\n",
    "f.read()"
   ]
  },
  {
   "cell_type": "code",
   "execution_count": 7,
   "metadata": {},
   "outputs": [],
   "source": [
    "# 最后一步调用close（）函数关闭文件。\n",
    "f.close()"
   ]
  },
  {
   "cell_type": "markdown",
   "metadata": {},
   "source": [
    "由于文件读写时都有可能产生IOError，一旦出错，后面的f.close()就不会调用。所以，为了保证无论是否出错都能正确地关闭文件，我们可以使用try ... finally来实现："
   ]
  },
  {
   "cell_type": "code",
   "execution_count": 8,
   "metadata": {},
   "outputs": [
    {
     "name": "stdout",
     "output_type": "stream",
     "text": [
      "Hello Python!\n"
     ]
    }
   ],
   "source": [
    "try:\n",
    "    f = open('./file.txt', 'r')\n",
    "    print(f.read())\n",
    "finally:\n",
    "    if f:\n",
    "        f.close()"
   ]
  },
  {
   "cell_type": "markdown",
   "metadata": {},
   "source": [
    "Python引入了with语句来自动帮我们调用close()方法："
   ]
  },
  {
   "cell_type": "code",
   "execution_count": 9,
   "metadata": {},
   "outputs": [
    {
     "name": "stdout",
     "output_type": "stream",
     "text": [
      "Hello Python!\n"
     ]
    }
   ],
   "source": [
    "with open('./file.txt','r') as f:\n",
    "    print(f.read())"
   ]
  },
  {
   "cell_type": "markdown",
   "metadata": {},
   "source": [
    "调用read()会一次性读取文件的全部内容，如果文件有10G，内存就爆了，所以，要保险起见，可以反复调用read(size)方法，每次最多读取size个字节的内容。另外，调用readline()可以每次读取一行内容，调用readlines()一次读取所有内容并按行返回list。因此，要根据需要决定怎么调用。\n",
    "\n",
    "如果文件很小，read()一次性读取最方便；如果不能确定文件大小，反复调用read(size)比较保险；如果是配置文件，调用readlines()最方便："
   ]
  },
  {
   "cell_type": "code",
   "execution_count": 10,
   "metadata": {},
   "outputs": [
    {
     "name": "stdout",
     "output_type": "stream",
     "text": [
      "2017-07-04 14:19:54,936 [1] ERROR ASP.global_asax [(null)] - 调试\n",
      "2017-07-04 14:35:56,559 [1] ERROR ASP.global_asax [(null)] - 程序重开节点\n",
      "2017-07-05 16:09:41,901 [1] ERROR ASP.global_asax [(null)] - 程序重开节点\n",
      "2017-07-05 16:11:29,242 [1] ERROR ASP.global_asax [(null)] - 程序重开节点\n",
      "2017-07-05 16:15:37,850 [1] ERROR ASP.global_asax [(null)] - 程序重开节点\n",
      "2017-07-05 16:18:28,403 [1] ERROR ASP.global_asax [(null)] - 程序重开节点\n",
      "2017-07-05 16:22:06,484 [1] ERROR ASP.global_asax [(null)] - 程序重开节点\n",
      "2017-07-05 16:23:10,252 [1] ERROR ASP.global_asax [(null)] - 程序重开节点\n",
      "2017-07-05 16:24:38,100 [1] ERROR ASP.global_asax [(null)] - 程序重开节点\n",
      "2017-07-05 16:27:01,076 [1] ERROR ASP.global_asax [(null)] - 程序重开节点\n",
      "2017-07-06 08:00:20,437 [1] ERROR ASP.global_asax [(null)] - 程序重开节点\n",
      "2017-07-06 14:58:04,475 [1] ERROR ASP.global_asax [(null)] - 程序重开节点\n",
      "2017-07-06 15:33:38,977 [1] ERROR ASP.global_asax [(null)] - 程序重开节点\n",
      "2017-07-06 15:34:50,828 [1] ERROR ASP.global_asax [(null)] - 程序重开节点\n",
      "2017-07-06 15:35:58,133 [1] ERROR ASP.global_asax [(null)] - 程序重开节点\n",
      "2017-07-06 15:37:04,496 [1] ERROR ASP.global_asax [(null)] - 程序重开节点\n",
      "2017-07-06 15:38:08,837 [1] ERROR ASP.global_asax [(null)] - 程序重开节点\n",
      "2017-07-06 15:39:29,897 [1] ERROR ASP.global_asax [(null)] - 程序重开节点\n",
      "2017-07-06 15:41:16,272 [1] ERROR ASP.global_asax [(null)] - 程序重开节点\n",
      "2017-07-06 15:42:50,867 [1] ERROR ASP.global_asax [(null)] - 程序重开节点\n",
      "2017-07-06 15:45:13,259 [1] ERROR ASP.global_asax [(null)] - 程序重开节点\n",
      "2017-07-06 15:48:27,659 [1] ERROR ASP.global_asax [(null)] - 程序重开节点\n",
      "2017-07-07 13:53:14,128 [1] ERROR ASP.global_asax [(null)] - 程序重开节点\n",
      "2017-07-07 13:53:55,503 [1] ERROR ASP.global_asax [(null)] - 程序重开节点\n",
      "2017-07-07 13:56:31,478 [1] ERROR ASP.global_asax [(null)] - 程序重开节点\n",
      "2017-07-07 14:10:04,994 [1] ERROR ASP.global_asax [(null)] - 程序重开节点\n",
      "2017-07-07 14:13:33,912 [1] ERROR ASP.global_asax [(null)] - 程序重开节点\n",
      "2017-07-07 14:14:56,774 [1] ERROR ASP.global_asax [(null)] - 程序重开节点\n",
      "2017-07-07 14:20:15,451 [1] ERROR ASP.global_asax [(null)] - 程序重开节点\n",
      "2017-07-07 14:29:52,452 [1] ERROR ASP.global_asax [(null)] - 程序重开节点\n",
      "2017-07-07 14:30:45,257 [1] ERROR ASP.global_asax [(null)] - 程序重开节点\n",
      "2017-07-07 14:50:36,391 [1] ERROR ASP.global_asax [(null)] - 程序重开节点\n",
      "2017-07-07 15:24:13,123 [1] ERROR ASP.global_asax [(null)] - 程序重开节点\n",
      "2017-07-07 15:28:13,432 [1] ERROR ASP.global_asax [(null)] - 程序重开节点\n",
      "2017-07-07 15:34:04,520 [1] ERROR ASP.global_asax [(null)] - 程序重开节点\n",
      "2017-07-07 15:59:13,040 [1] ERROR ASP.global_asax [(null)] - 程序重开节点\n",
      "2017-07-07 16:05:53,871 [1] ERROR ASP.global_asax [(null)] - 程序重开节点\n",
      "2017-07-07 16:24:25,090 [1] ERROR ASP.global_asax [(null)] - 程序重开节点\n"
     ]
    }
   ],
   "source": [
    "with open('C:/log.log','r') as f:\n",
    "    for line in f.readlines():\n",
    "        print(line.strip())# 把末尾的'\\n'删掉"
   ]
  },
  {
   "cell_type": "markdown",
   "metadata": {},
   "source": [
    "### 二进制文件\n",
    "\n",
    "读取二进制文件，比如图片，视频，要用'rb'模式打开。"
   ]
  },
  {
   "cell_type": "code",
   "execution_count": 9,
   "metadata": {},
   "outputs": [
    {
     "name": "stdout",
     "output_type": "stream",
     "text": [
      "b'\\xff\\xd8\\xff\\xe0\\x00\\x10JFIF'\n"
     ]
    }
   ],
   "source": [
    "with open('d:/timg.jpg','rb') as f:\n",
    "    print(f.readline(10))"
   ]
  },
  {
   "cell_type": "markdown",
   "metadata": {},
   "source": [
    "### 字符编码\n",
    "\n",
    "要读取非UTF-8编码的文本文件，需要给open()函数传入encoding参数，例如，读取GBK编码的文件："
   ]
  },
  {
   "cell_type": "code",
   "execution_count": 17,
   "metadata": {},
   "outputs": [
    {
     "name": "stdout",
     "output_type": "stream",
     "text": [
      "2017-07-04 14:19:54,936 [1] ERROR ASP.global_asax [(null)] - 调试\n",
      "2017-07-04 14:35:56,559 [1] ERROR ASP.global_asax [(null)] - 程序重开节点\n",
      "2017-07-05 16:09:41,901 [1] ERROR ASP.global_asax [(null)] - 程序重开节点\n",
      "2017-07-05 16:11:29,242 [1] ERROR ASP.global_asax [(null)] - 程序重开节点\n",
      "2017-07-07 16:24:25,090 [1] ERROR ASP.global_asax [(null)] - 程序重开节点\n"
     ]
    }
   ],
   "source": [
    "with open('C:/log.txt','r',encoding='gbk') as f:\n",
    "    for line in f.readlines():\n",
    "        print(line.strip())# 把末尾的'\\n'删掉"
   ]
  },
  {
   "cell_type": "markdown",
   "metadata": {},
   "source": [
    "遇到有些编码不规范的文件，你可能会遇到UnicodeDecodeError，因为在文本文件中可能夹杂了一些非法编码的字符。遇到这种情况，open()函数还接收一个errors参数，表示如果遇到编码错误后如何处理。最简单的方式是直接忽略："
   ]
  },
  {
   "cell_type": "code",
   "execution_count": 18,
   "metadata": {},
   "outputs": [
    {
     "name": "stdout",
     "output_type": "stream",
     "text": [
      "2017-07-04 14:19:54,936 [1] ERROR ASP.global_asax [(null)] - 调试\n",
      "2017-07-04 14:35:56,559 [1] ERROR ASP.global_asax [(null)] - 程序重开节点\n",
      "2017-07-05 16:09:41,901 [1] ERROR ASP.global_asax [(null)] - 程序重开节点\n",
      "2017-07-05 16:11:29,242 [1] ERROR ASP.global_asax [(null)] - 程序重开节点\n",
      "2017-07-07 16:24:25,090 [1] ERROR ASP.global_asax [(null)] - 程序重开节点\n"
     ]
    }
   ],
   "source": [
    "with open('C:/log.txt','r',encoding='gbk',errors='ignore') as f:\n",
    "    for line in f.readlines():\n",
    "        print(line.strip())# 把末尾的'\\n'删掉"
   ]
  },
  {
   "cell_type": "markdown",
   "metadata": {},
   "source": [
    "## 写文件"
   ]
  },
  {
   "cell_type": "markdown",
   "metadata": {},
   "source": [
    "写文件和读文件是一样的，唯一区别是调用open()函数时，传入标识符'w'或者'wb'表示写文本文件或写二进制文件："
   ]
  },
  {
   "cell_type": "code",
   "execution_count": 20,
   "metadata": {},
   "outputs": [],
   "source": [
    "# 要写入特定编码的文本文件，请给open()函数传入encoding参数，将字符串自动转换成指定编码。\n",
    "with open('./file.txt','w') as f:\n",
    "    f.write('Hello World')"
   ]
  },
  {
   "cell_type": "code",
   "execution_count": null,
   "metadata": {},
   "outputs": [],
   "source": []
  }
 ],
 "metadata": {
  "kernelspec": {
   "display_name": "Python 3",
   "language": "python",
   "name": "python3"
  },
  "language_info": {
   "codemirror_mode": {
    "name": "ipython",
    "version": 3
   },
   "file_extension": ".py",
   "mimetype": "text/x-python",
   "name": "python",
   "nbconvert_exporter": "python",
   "pygments_lexer": "ipython3",
   "version": "3.6.0"
  }
 },
 "nbformat": 4,
 "nbformat_minor": 2
}
