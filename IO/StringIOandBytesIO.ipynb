{
 "cells": [
  {
   "cell_type": "markdown",
   "metadata": {},
   "source": [
    "## StringIO\n",
    "很多时候，数据读写不一定是文件，也可以在内存中读写。\n",
    "\n",
    "StringIO顾名思义就是在内存中读写str。\n",
    "\n",
    "要把str写入StringIO，我们需要先创建一个StringIO，然后，像文件一样写入即可："
   ]
  },
  {
   "cell_type": "code",
   "execution_count": 2,
   "metadata": {},
   "outputs": [
    {
     "name": "stdout",
     "output_type": "stream",
     "text": [
      "hello World!\n"
     ]
    }
   ],
   "source": [
    "from io import StringIO\n",
    "f=StringIO()\n",
    "f.write('hello')\n",
    "f.write(' ')\n",
    "f.write('World!') \n",
    "print(f.getvalue()) # getvalue()方法用于获得写入后的str。"
   ]
  },
  {
   "cell_type": "code",
   "execution_count": 4,
   "metadata": {},
   "outputs": [
    {
     "name": "stdout",
     "output_type": "stream",
     "text": [
      "Hello!\n",
      "Hi!\n",
      "Goodbye!\n"
     ]
    }
   ],
   "source": [
    "f=StringIO('Hello!\\nHi!\\nGoodbye!')\n",
    "while True:\n",
    "    s=f.readline()\n",
    "    if s=='':\n",
    "        break\n",
    "    print(s.strip())"
   ]
  },
  {
   "cell_type": "markdown",
   "metadata": {},
   "source": [
    "## BytesIO\n",
    "StringIO操作的只能是str，如果要操作二进制数据，就需要使用BytesIO。\n",
    "\n",
    "BytesIO实现了在内存中读写bytes，我们创建一个BytesIO，然后写入一些bytes："
   ]
  },
  {
   "cell_type": "code",
   "execution_count": 5,
   "metadata": {},
   "outputs": [
    {
     "name": "stdout",
     "output_type": "stream",
     "text": [
      "b'\\xe4\\xb8\\xad\\xe6\\x96\\x87'\n"
     ]
    }
   ],
   "source": [
    "from io import BytesIO\n",
    "f=BytesIO()\n",
    "f.write('中文'.encode('utf-8'))\n",
    "print(f.getvalue())"
   ]
  },
  {
   "cell_type": "code",
   "execution_count": null,
   "metadata": {},
   "outputs": [],
   "source": []
  }
 ],
 "metadata": {
  "kernelspec": {
   "display_name": "Python 3",
   "language": "python",
   "name": "python3"
  },
  "language_info": {
   "codemirror_mode": {
    "name": "ipython",
    "version": 3
   },
   "file_extension": ".py",
   "mimetype": "text/x-python",
   "name": "python",
   "nbconvert_exporter": "python",
   "pygments_lexer": "ipython3",
   "version": "3.6.3"
  }
 },
 "nbformat": 4,
 "nbformat_minor": 2
}
