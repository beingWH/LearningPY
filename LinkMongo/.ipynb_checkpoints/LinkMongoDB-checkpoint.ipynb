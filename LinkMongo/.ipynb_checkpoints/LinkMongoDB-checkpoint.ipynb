{
 "cells": [
  {
   "cell_type": "markdown",
   "metadata": {},
   "source": [
    "## 访问MongoDB\n",
    "\n",
    "以下是安装Python3驱动最简单的方式。\n",
    "```\n",
    "pip install pymongo\n",
    "```"
   ]
  },
  {
   "cell_type": "code",
   "execution_count": 10,
   "metadata": {},
   "outputs": [
    {
     "name": "stdout",
     "output_type": "stream",
     "text": [
      "{'_id': ObjectId('59f9c91100f26f3fd5d05665'), 'name': 'John Doe', 'zip': 10001.0}\n",
      "{'_id': ObjectId('59f9c91a00f26f3fd5d05666'), 'name': 'Lee Chang', 'zip': 94129.0}\n",
      "{'_id': ObjectId('59f9c92300f26f3fd5d05667'), 'name': 'Jenny Gonzalez', 'zip': 33101.0}\n",
      "{'_id': ObjectId('59f9c92e00f26f3fd5d05668'), 'name': 'Srinivas Shastri', 'zip': 1089.0}\n"
     ]
    }
   ],
   "source": [
    "import pymongo\n",
    "client=pymongo.MongoClient('localhost',27017)\n",
    "db=client.prefs\n",
    "collection=db.location\n",
    "for loc in collection.find():\n",
    "    print(loc)"
   ]
  },
  {
   "cell_type": "code",
   "execution_count": 12,
   "metadata": {},
   "outputs": [
    {
     "data": {
      "text/plain": [
       "Database(MongoClient(host=['localhost:27017'], document_class=dict, tz_aware=False, connect=True), 'posts')"
      ]
     },
     "execution_count": 12,
     "metadata": {},
     "output_type": "execute_result"
    }
   ],
   "source": [
    "# 新建数据库\n",
    "db=client.posts\n",
    "db"
   ]
  },
  {
   "cell_type": "code",
   "execution_count": 30,
   "metadata": {},
   "outputs": [
    {
     "data": {
      "text/plain": [
       "ObjectId('5a0d7fe2d955333f8407b1ec')"
      ]
     },
     "execution_count": 30,
     "metadata": {},
     "output_type": "execute_result"
    }
   ],
   "source": [
    "# 插入一条记录\n",
    "import datetime\n",
    "post={\"author\":\"wanghuan\",\"text\":\"First blog post\",\"tags\":[\"mongodb\",\"python\",\"pymongo\"],\"date\":datetime.datetime.utcnow()}\n",
    "posts=db.posts\n",
    "posts.insert_one(post).inserted_id"
   ]
  },
  {
   "cell_type": "code",
   "execution_count": 16,
   "metadata": {},
   "outputs": [
    {
     "data": {
      "text/plain": [
       "{'_id': ObjectId('5a0d7c0bd955333f8407b1e9'),\n",
       " 'author': 'wanghuan',\n",
       " 'date': datetime.datetime(2017, 11, 16, 11, 52, 43, 553000),\n",
       " 'tags': ['mongodb', 'python', 'pymongo'],\n",
       " 'text': 'First blog post'}"
      ]
     },
     "execution_count": 16,
     "metadata": {},
     "output_type": "execute_result"
    }
   ],
   "source": [
    "# 查找一条数据\n",
    "posts.find_one()"
   ]
  },
  {
   "cell_type": "code",
   "execution_count": 27,
   "metadata": {},
   "outputs": [
    {
     "data": {
      "text/plain": [
       "ObjectId('5a0d7c0bd955333f8407b1e9')"
      ]
     },
     "execution_count": 27,
     "metadata": {},
     "output_type": "execute_result"
    }
   ],
   "source": [
    "# 查找一条数据的ObjectId\n",
    "posts.find_one().get('_id')"
   ]
  },
  {
   "cell_type": "code",
   "execution_count": 29,
   "metadata": {},
   "outputs": [
    {
     "data": {
      "text/plain": [
       "[ObjectId('5a0d7fd0d955333f8407b1ea'), ObjectId('5a0d7fd0d955333f8407b1eb')]"
      ]
     },
     "execution_count": 29,
     "metadata": {},
     "output_type": "execute_result"
    }
   ],
   "source": [
    "# 插入多条数据\n",
    "new_posts=[{\"author\": \"Mike\",\"text\": \"Another post!\",\"tags\": [\"bulk\", \"insert\"],\"date\": datetime.datetime(2009, 11, 12, 11, 14)},{\"author\": \"Eliot\",\n",
    "\"title\": \"MongoDB is fun\",\"text\": \"and pretty easy too!\",\"date\": datetime.datetime(2009, 11, 10, 10, 45)}]\n",
    "result=posts.insert_many(new_posts)\n",
    "result.inserted_ids                                                                                                                                  "
   ]
  },
  {
   "cell_type": "code",
   "execution_count": 35,
   "metadata": {},
   "outputs": [
    {
     "name": "stdout",
     "output_type": "stream",
     "text": [
      "5a0d7c0bd955333f8407b1e9 wanghuan\n",
      "5a0d7fd0d955333f8407b1ea Mike\n",
      "5a0d7fd0d955333f8407b1eb Eliot\n",
      "5a0d7fe2d955333f8407b1ec wanghuan\n"
     ]
    }
   ],
   "source": [
    "# 查找多条记录\n",
    "for post in posts.find():\n",
    "    print(post.get('_id'),post.get('author'))"
   ]
  },
  {
   "cell_type": "code",
   "execution_count": 37,
   "metadata": {},
   "outputs": [
    {
     "data": {
      "text/plain": [
       "{'_id': ObjectId('5a0d7c0bd955333f8407b1e9'),\n",
       " 'author': 'wanghuan',\n",
       " 'date': datetime.datetime(2017, 11, 16, 11, 52, 43, 553000),\n",
       " 'tags': ['mongodb', 'python', 'pymongo'],\n",
       " 'text': 'First blog post'}"
      ]
     },
     "execution_count": 37,
     "metadata": {},
     "output_type": "execute_result"
    }
   ],
   "source": [
    "# 通过约束条件查找\n",
    "posts.find_one({\"author\":\"wanghuan\"})"
   ]
  },
  {
   "cell_type": "code",
   "execution_count": 39,
   "metadata": {},
   "outputs": [
    {
     "name": "stdout",
     "output_type": "stream",
     "text": [
      "5a0d7c0bd955333f8407b1e9\n",
      "5a0d7fe2d955333f8407b1ec\n"
     ]
    }
   ],
   "source": [
    "# 通过约束条件查找多条\n",
    "for post in posts.find({\"author\":\"wanghuan\"}):\n",
    "    print(post.get('_id'))"
   ]
  },
  {
   "cell_type": "code",
   "execution_count": 40,
   "metadata": {},
   "outputs": [
    {
     "data": {
      "text/plain": [
       "2"
      ]
     },
     "execution_count": 40,
     "metadata": {},
     "output_type": "execute_result"
    }
   ],
   "source": [
    "# 获取集合条数\n",
    "posts.find({\"author\":\"wanghuan\"}).count()"
   ]
  },
  {
   "cell_type": "code",
   "execution_count": 46,
   "metadata": {},
   "outputs": [
    {
     "name": "stdout",
     "output_type": "stream",
     "text": [
      "5a0d7c0bd955333f8407b1e9\n"
     ]
    }
   ],
   "source": [
    "# ObjectId转化为str\n",
    "post_Idstr=str(posts.find_one({\"author\":\"wanghuan\"}).get('_id'))\n",
    "print(post_Idstr)"
   ]
  },
  {
   "cell_type": "code",
   "execution_count": 48,
   "metadata": {},
   "outputs": [
    {
     "data": {
      "text/plain": [
       "{'_id': ObjectId('5a0d7c0bd955333f8407b1e9'),\n",
       " 'author': 'wanghuan',\n",
       " 'date': datetime.datetime(2017, 11, 16, 11, 52, 43, 553000),\n",
       " 'tags': ['mongodb', 'python', 'pymongo'],\n",
       " 'text': 'First blog post'}"
      ]
     },
     "execution_count": 48,
     "metadata": {},
     "output_type": "execute_result"
    }
   ],
   "source": [
    "# str转化为ObjectId\n",
    "from bson.objectid import ObjectId\n",
    "posts.find_one({'_id':ObjectId(post_Idstr)})"
   ]
  },
  {
   "cell_type": "code",
   "execution_count": 50,
   "metadata": {},
   "outputs": [
    {
     "name": "stdout",
     "output_type": "stream",
     "text": [
      "{'_id': ObjectId('5a0d7fd0d955333f8407b1eb'), 'author': 'Eliot', 'title': 'MongoDB is fun', 'text': 'and pretty easy too!', 'date': datetime.datetime(2009, 11, 10, 10, 45)}\n",
      "{'_id': ObjectId('5a0d7fd0d955333f8407b1ea'), 'author': 'Mike', 'text': 'Another post!', 'tags': ['bulk', 'insert'], 'date': datetime.datetime(2009, 11, 12, 11, 14)}\n",
      "{'_id': ObjectId('5a0d7c0bd955333f8407b1e9'), 'author': 'wanghuan', 'text': 'First blog post', 'tags': ['mongodb', 'python', 'pymongo'], 'date': datetime.datetime(2017, 11, 16, 11, 52, 43, 553000)}\n",
      "{'_id': ObjectId('5a0d7fe2d955333f8407b1ec'), 'author': 'wanghuan', 'text': 'First blog post', 'tags': ['mongodb', 'python', 'pymongo'], 'date': datetime.datetime(2017, 11, 16, 12, 9, 6, 324000)}\n"
     ]
    }
   ],
   "source": [
    "# 排序 默认为升序排列\n",
    "from pymongo import ASCENDING,DESCENDING\n",
    "for post in posts.find().sort('author'):\n",
    "    print(post)"
   ]
  },
  {
   "cell_type": "code",
   "execution_count": 51,
   "metadata": {},
   "outputs": [
    {
     "name": "stdout",
     "output_type": "stream",
     "text": [
      "{'_id': ObjectId('5a0d7c0bd955333f8407b1e9'), 'author': 'wanghuan', 'text': 'First blog post', 'tags': ['mongodb', 'python', 'pymongo'], 'date': datetime.datetime(2017, 11, 16, 11, 52, 43, 553000)}\n",
      "{'_id': ObjectId('5a0d7fe2d955333f8407b1ec'), 'author': 'wanghuan', 'text': 'First blog post', 'tags': ['mongodb', 'python', 'pymongo'], 'date': datetime.datetime(2017, 11, 16, 12, 9, 6, 324000)}\n",
      "{'_id': ObjectId('5a0d7fd0d955333f8407b1ea'), 'author': 'Mike', 'text': 'Another post!', 'tags': ['bulk', 'insert'], 'date': datetime.datetime(2009, 11, 12, 11, 14)}\n",
      "{'_id': ObjectId('5a0d7fd0d955333f8407b1eb'), 'author': 'Eliot', 'title': 'MongoDB is fun', 'text': 'and pretty easy too!', 'date': datetime.datetime(2009, 11, 10, 10, 45)}\n"
     ]
    }
   ],
   "source": [
    "from pymongo import ASCENDING,DESCENDING\n",
    "for post in posts.find().sort('author',pymongo.DESCENDING):\n",
    "    print(post)"
   ]
  },
  {
   "cell_type": "code",
   "execution_count": 52,
   "metadata": {},
   "outputs": [
    {
     "name": "stderr",
     "output_type": "stream",
     "text": [
      "d:\\python\\python36\\lib\\site-packages\\ipykernel_launcher.py:2: DeprecationWarning: update is deprecated. Use replace_one, update_one or update_many instead.\n",
      "  \n"
     ]
    },
    {
     "data": {
      "text/plain": [
       "{'n': 1, 'nModified': 1, 'ok': 1.0, 'updatedExisting': True}"
      ]
     },
     "execution_count": 52,
     "metadata": {},
     "output_type": "execute_result"
    }
   ],
   "source": [
    "# 修改记录\n",
    "posts.update({\"author\":\"Mike\"},{\"$set\":{\"text\":\"Update Record\"}})"
   ]
  },
  {
   "cell_type": "code",
   "execution_count": 53,
   "metadata": {},
   "outputs": [
    {
     "data": {
      "text/plain": [
       "{'_id': ObjectId('5a0d7fd0d955333f8407b1ea'),\n",
       " 'author': 'Mike',\n",
       " 'date': datetime.datetime(2009, 11, 12, 11, 14),\n",
       " 'tags': ['bulk', 'insert'],\n",
       " 'text': 'Update Record'}"
      ]
     },
     "execution_count": 53,
     "metadata": {},
     "output_type": "execute_result"
    }
   ],
   "source": [
    "posts.find_one({\"author\":\"Mike\"})"
   ]
  },
  {
   "cell_type": "code",
   "execution_count": 54,
   "metadata": {},
   "outputs": [
    {
     "name": "stderr",
     "output_type": "stream",
     "text": [
      "d:\\python\\python36\\lib\\site-packages\\ipykernel_launcher.py:1: DeprecationWarning: remove is deprecated. Use delete_one or delete_many instead.\n",
      "  \"\"\"Entry point for launching an IPython kernel.\n"
     ]
    },
    {
     "data": {
      "text/plain": [
       "{'n': 2, 'ok': 1.0}"
      ]
     },
     "execution_count": 54,
     "metadata": {},
     "output_type": "execute_result"
    }
   ],
   "source": [
    "# 按约束条件删除\n",
    "posts.remove({\"author\":\"wanghuan\"})"
   ]
  },
  {
   "cell_type": "code",
   "execution_count": 56,
   "metadata": {},
   "outputs": [
    {
     "name": "stdout",
     "output_type": "stream",
     "text": [
      "{'_id': ObjectId('5a0d7fd0d955333f8407b1ea'), 'author': 'Mike', 'text': 'Update Record', 'tags': ['bulk', 'insert'], 'date': datetime.datetime(2009, 11, 12, 11, 14)}\n",
      "{'_id': ObjectId('5a0d7fd0d955333f8407b1eb'), 'author': 'Eliot', 'title': 'MongoDB is fun', 'text': 'and pretty easy too!', 'date': datetime.datetime(2009, 11, 10, 10, 45)}\n"
     ]
    }
   ],
   "source": [
    "for post in posts.find():\n",
    "    print(post)"
   ]
  },
  {
   "cell_type": "code",
   "execution_count": 57,
   "metadata": {},
   "outputs": [
    {
     "name": "stderr",
     "output_type": "stream",
     "text": [
      "d:\\python\\python36\\lib\\site-packages\\ipykernel_launcher.py:2: DeprecationWarning: remove is deprecated. Use delete_one or delete_many instead.\n",
      "  \n"
     ]
    },
    {
     "data": {
      "text/plain": [
       "{'n': 2, 'ok': 1.0}"
      ]
     },
     "execution_count": 57,
     "metadata": {},
     "output_type": "execute_result"
    }
   ],
   "source": [
    "# 删除全部\n",
    "posts.remove()"
   ]
  },
  {
   "cell_type": "code",
   "execution_count": null,
   "metadata": {},
   "outputs": [],
   "source": []
  }
 ],
 "metadata": {
  "kernelspec": {
   "display_name": "Python 3",
   "language": "python",
   "name": "python3"
  },
  "language_info": {
   "codemirror_mode": {
    "name": "ipython",
    "version": 3
   },
   "file_extension": ".py",
   "mimetype": "text/x-python",
   "name": "python",
   "nbconvert_exporter": "python",
   "pygments_lexer": "ipython3",
   "version": "3.6.0"
  }
 },
 "nbformat": 4,
 "nbformat_minor": 2
}
